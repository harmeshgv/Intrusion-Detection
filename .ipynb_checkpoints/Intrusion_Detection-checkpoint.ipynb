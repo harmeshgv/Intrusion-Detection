{
  "cells": [
    {
      "cell_type": "markdown",
      "metadata": {
        "id": "o07thslMQ8os"
      },
      "source": [
        "**Importing Necessary Libraries**"
      ]
    },
    {
      "cell_type": "code",
      "execution_count": null,
      "metadata": {
        "id": "9_7yPemzO7qw"
      },
      "outputs": [],
      "source": [
        "import pandas as pd\n",
        "import pickle\n",
        "import seaborn as sns\n",
        "import numpy as np\n",
        "import matplotlib.pyplot as plt\n"
      ]
    },
    {
      "cell_type": "code",
      "execution_count": null,
      "metadata": {
        "id": "1bePwEFHRo8f"
      },
      "outputs": [],
      "source": [
        "Data = pd.read_csv(\"/content/drive/MyDrive/IntrsiondetectionDataSet/KDDTrain+.txt\")"
      ]
    },
    {
      "cell_type": "code",
      "execution_count": null,
      "metadata": {
        "id": "HtEAsJyiRrwx",
        "colab": {
          "base_uri": "https://localhost:8080/",
          "height": 423
        },
        "outputId": "4f008156-cba9-481f-b226-b7a24d816216"
      },
      "outputs": [
        {
          "output_type": "execute_result",
          "data": {
            "text/plain": [
              "        0  tcp  ftp_data   SF   491   0.1  0.2  0.3  0.4  0.5  ...  0.17  \\\n",
              "0       0  udp     other   SF   146     0    0    0    0    0  ...  0.00   \n",
              "1       0  tcp   private   S0     0     0    0    0    0    0  ...  0.10   \n",
              "2       0  tcp      http   SF   232  8153    0    0    0    0  ...  1.00   \n",
              "3       0  tcp      http   SF   199   420    0    0    0    0  ...  1.00   \n",
              "4       0  tcp   private  REJ     0     0    0    0    0    0  ...  0.07   \n",
              "...    ..  ...       ...  ...   ...   ...  ...  ...  ...  ...  ...   ...   \n",
              "125967  0  tcp   private   S0     0     0    0    0    0    0  ...  0.10   \n",
              "125968  8  udp   private   SF   105   145    0    0    0    0  ...  0.96   \n",
              "125969  0  tcp      smtp   SF  2231   384    0    0    0    0  ...  0.12   \n",
              "125970  0  tcp    klogin   S0     0     0    0    0    0    0  ...  0.03   \n",
              "125971  0  tcp  ftp_data   SF   151     0    0    0    0    0  ...  0.30   \n",
              "\n",
              "        0.03  0.17.1  0.00.6  0.00.7  0.00.8  0.05  0.00.9   normal  20  \n",
              "0       0.60    0.88    0.00    0.00    0.00  0.00    0.00   normal  15  \n",
              "1       0.05    0.00    0.00    1.00    1.00  0.00    0.00  neptune  19  \n",
              "2       0.00    0.03    0.04    0.03    0.01  0.00    0.01   normal  21  \n",
              "3       0.00    0.00    0.00    0.00    0.00  0.00    0.00   normal  21  \n",
              "4       0.07    0.00    0.00    0.00    0.00  1.00    1.00  neptune  21  \n",
              "...      ...     ...     ...     ...     ...   ...     ...      ...  ..  \n",
              "125967  0.06    0.00    0.00    1.00    1.00  0.00    0.00  neptune  20  \n",
              "125968  0.01    0.01    0.00    0.00    0.00  0.00    0.00   normal  21  \n",
              "125969  0.06    0.00    0.00    0.72    0.00  0.01    0.00   normal  18  \n",
              "125970  0.05    0.00    0.00    1.00    1.00  0.00    0.00  neptune  20  \n",
              "125971  0.03    0.30    0.00    0.00    0.00  0.00    0.00   normal  21  \n",
              "\n",
              "[125972 rows x 43 columns]"
            ],
            "text/html": [
              "\n",
              "  <div id=\"df-aef65e14-bd59-4d39-8de3-f60e0ee2e019\" class=\"colab-df-container\">\n",
              "    <div>\n",
              "<style scoped>\n",
              "    .dataframe tbody tr th:only-of-type {\n",
              "        vertical-align: middle;\n",
              "    }\n",
              "\n",
              "    .dataframe tbody tr th {\n",
              "        vertical-align: top;\n",
              "    }\n",
              "\n",
              "    .dataframe thead th {\n",
              "        text-align: right;\n",
              "    }\n",
              "</style>\n",
              "<table border=\"1\" class=\"dataframe\">\n",
              "  <thead>\n",
              "    <tr style=\"text-align: right;\">\n",
              "      <th></th>\n",
              "      <th>0</th>\n",
              "      <th>tcp</th>\n",
              "      <th>ftp_data</th>\n",
              "      <th>SF</th>\n",
              "      <th>491</th>\n",
              "      <th>0.1</th>\n",
              "      <th>0.2</th>\n",
              "      <th>0.3</th>\n",
              "      <th>0.4</th>\n",
              "      <th>0.5</th>\n",
              "      <th>...</th>\n",
              "      <th>0.17</th>\n",
              "      <th>0.03</th>\n",
              "      <th>0.17.1</th>\n",
              "      <th>0.00.6</th>\n",
              "      <th>0.00.7</th>\n",
              "      <th>0.00.8</th>\n",
              "      <th>0.05</th>\n",
              "      <th>0.00.9</th>\n",
              "      <th>normal</th>\n",
              "      <th>20</th>\n",
              "    </tr>\n",
              "  </thead>\n",
              "  <tbody>\n",
              "    <tr>\n",
              "      <th>0</th>\n",
              "      <td>0</td>\n",
              "      <td>udp</td>\n",
              "      <td>other</td>\n",
              "      <td>SF</td>\n",
              "      <td>146</td>\n",
              "      <td>0</td>\n",
              "      <td>0</td>\n",
              "      <td>0</td>\n",
              "      <td>0</td>\n",
              "      <td>0</td>\n",
              "      <td>...</td>\n",
              "      <td>0.00</td>\n",
              "      <td>0.60</td>\n",
              "      <td>0.88</td>\n",
              "      <td>0.00</td>\n",
              "      <td>0.00</td>\n",
              "      <td>0.00</td>\n",
              "      <td>0.00</td>\n",
              "      <td>0.00</td>\n",
              "      <td>normal</td>\n",
              "      <td>15</td>\n",
              "    </tr>\n",
              "    <tr>\n",
              "      <th>1</th>\n",
              "      <td>0</td>\n",
              "      <td>tcp</td>\n",
              "      <td>private</td>\n",
              "      <td>S0</td>\n",
              "      <td>0</td>\n",
              "      <td>0</td>\n",
              "      <td>0</td>\n",
              "      <td>0</td>\n",
              "      <td>0</td>\n",
              "      <td>0</td>\n",
              "      <td>...</td>\n",
              "      <td>0.10</td>\n",
              "      <td>0.05</td>\n",
              "      <td>0.00</td>\n",
              "      <td>0.00</td>\n",
              "      <td>1.00</td>\n",
              "      <td>1.00</td>\n",
              "      <td>0.00</td>\n",
              "      <td>0.00</td>\n",
              "      <td>neptune</td>\n",
              "      <td>19</td>\n",
              "    </tr>\n",
              "    <tr>\n",
              "      <th>2</th>\n",
              "      <td>0</td>\n",
              "      <td>tcp</td>\n",
              "      <td>http</td>\n",
              "      <td>SF</td>\n",
              "      <td>232</td>\n",
              "      <td>8153</td>\n",
              "      <td>0</td>\n",
              "      <td>0</td>\n",
              "      <td>0</td>\n",
              "      <td>0</td>\n",
              "      <td>...</td>\n",
              "      <td>1.00</td>\n",
              "      <td>0.00</td>\n",
              "      <td>0.03</td>\n",
              "      <td>0.04</td>\n",
              "      <td>0.03</td>\n",
              "      <td>0.01</td>\n",
              "      <td>0.00</td>\n",
              "      <td>0.01</td>\n",
              "      <td>normal</td>\n",
              "      <td>21</td>\n",
              "    </tr>\n",
              "    <tr>\n",
              "      <th>3</th>\n",
              "      <td>0</td>\n",
              "      <td>tcp</td>\n",
              "      <td>http</td>\n",
              "      <td>SF</td>\n",
              "      <td>199</td>\n",
              "      <td>420</td>\n",
              "      <td>0</td>\n",
              "      <td>0</td>\n",
              "      <td>0</td>\n",
              "      <td>0</td>\n",
              "      <td>...</td>\n",
              "      <td>1.00</td>\n",
              "      <td>0.00</td>\n",
              "      <td>0.00</td>\n",
              "      <td>0.00</td>\n",
              "      <td>0.00</td>\n",
              "      <td>0.00</td>\n",
              "      <td>0.00</td>\n",
              "      <td>0.00</td>\n",
              "      <td>normal</td>\n",
              "      <td>21</td>\n",
              "    </tr>\n",
              "    <tr>\n",
              "      <th>4</th>\n",
              "      <td>0</td>\n",
              "      <td>tcp</td>\n",
              "      <td>private</td>\n",
              "      <td>REJ</td>\n",
              "      <td>0</td>\n",
              "      <td>0</td>\n",
              "      <td>0</td>\n",
              "      <td>0</td>\n",
              "      <td>0</td>\n",
              "      <td>0</td>\n",
              "      <td>...</td>\n",
              "      <td>0.07</td>\n",
              "      <td>0.07</td>\n",
              "      <td>0.00</td>\n",
              "      <td>0.00</td>\n",
              "      <td>0.00</td>\n",
              "      <td>0.00</td>\n",
              "      <td>1.00</td>\n",
              "      <td>1.00</td>\n",
              "      <td>neptune</td>\n",
              "      <td>21</td>\n",
              "    </tr>\n",
              "    <tr>\n",
              "      <th>...</th>\n",
              "      <td>...</td>\n",
              "      <td>...</td>\n",
              "      <td>...</td>\n",
              "      <td>...</td>\n",
              "      <td>...</td>\n",
              "      <td>...</td>\n",
              "      <td>...</td>\n",
              "      <td>...</td>\n",
              "      <td>...</td>\n",
              "      <td>...</td>\n",
              "      <td>...</td>\n",
              "      <td>...</td>\n",
              "      <td>...</td>\n",
              "      <td>...</td>\n",
              "      <td>...</td>\n",
              "      <td>...</td>\n",
              "      <td>...</td>\n",
              "      <td>...</td>\n",
              "      <td>...</td>\n",
              "      <td>...</td>\n",
              "      <td>...</td>\n",
              "    </tr>\n",
              "    <tr>\n",
              "      <th>125967</th>\n",
              "      <td>0</td>\n",
              "      <td>tcp</td>\n",
              "      <td>private</td>\n",
              "      <td>S0</td>\n",
              "      <td>0</td>\n",
              "      <td>0</td>\n",
              "      <td>0</td>\n",
              "      <td>0</td>\n",
              "      <td>0</td>\n",
              "      <td>0</td>\n",
              "      <td>...</td>\n",
              "      <td>0.10</td>\n",
              "      <td>0.06</td>\n",
              "      <td>0.00</td>\n",
              "      <td>0.00</td>\n",
              "      <td>1.00</td>\n",
              "      <td>1.00</td>\n",
              "      <td>0.00</td>\n",
              "      <td>0.00</td>\n",
              "      <td>neptune</td>\n",
              "      <td>20</td>\n",
              "    </tr>\n",
              "    <tr>\n",
              "      <th>125968</th>\n",
              "      <td>8</td>\n",
              "      <td>udp</td>\n",
              "      <td>private</td>\n",
              "      <td>SF</td>\n",
              "      <td>105</td>\n",
              "      <td>145</td>\n",
              "      <td>0</td>\n",
              "      <td>0</td>\n",
              "      <td>0</td>\n",
              "      <td>0</td>\n",
              "      <td>...</td>\n",
              "      <td>0.96</td>\n",
              "      <td>0.01</td>\n",
              "      <td>0.01</td>\n",
              "      <td>0.00</td>\n",
              "      <td>0.00</td>\n",
              "      <td>0.00</td>\n",
              "      <td>0.00</td>\n",
              "      <td>0.00</td>\n",
              "      <td>normal</td>\n",
              "      <td>21</td>\n",
              "    </tr>\n",
              "    <tr>\n",
              "      <th>125969</th>\n",
              "      <td>0</td>\n",
              "      <td>tcp</td>\n",
              "      <td>smtp</td>\n",
              "      <td>SF</td>\n",
              "      <td>2231</td>\n",
              "      <td>384</td>\n",
              "      <td>0</td>\n",
              "      <td>0</td>\n",
              "      <td>0</td>\n",
              "      <td>0</td>\n",
              "      <td>...</td>\n",
              "      <td>0.12</td>\n",
              "      <td>0.06</td>\n",
              "      <td>0.00</td>\n",
              "      <td>0.00</td>\n",
              "      <td>0.72</td>\n",
              "      <td>0.00</td>\n",
              "      <td>0.01</td>\n",
              "      <td>0.00</td>\n",
              "      <td>normal</td>\n",
              "      <td>18</td>\n",
              "    </tr>\n",
              "    <tr>\n",
              "      <th>125970</th>\n",
              "      <td>0</td>\n",
              "      <td>tcp</td>\n",
              "      <td>klogin</td>\n",
              "      <td>S0</td>\n",
              "      <td>0</td>\n",
              "      <td>0</td>\n",
              "      <td>0</td>\n",
              "      <td>0</td>\n",
              "      <td>0</td>\n",
              "      <td>0</td>\n",
              "      <td>...</td>\n",
              "      <td>0.03</td>\n",
              "      <td>0.05</td>\n",
              "      <td>0.00</td>\n",
              "      <td>0.00</td>\n",
              "      <td>1.00</td>\n",
              "      <td>1.00</td>\n",
              "      <td>0.00</td>\n",
              "      <td>0.00</td>\n",
              "      <td>neptune</td>\n",
              "      <td>20</td>\n",
              "    </tr>\n",
              "    <tr>\n",
              "      <th>125971</th>\n",
              "      <td>0</td>\n",
              "      <td>tcp</td>\n",
              "      <td>ftp_data</td>\n",
              "      <td>SF</td>\n",
              "      <td>151</td>\n",
              "      <td>0</td>\n",
              "      <td>0</td>\n",
              "      <td>0</td>\n",
              "      <td>0</td>\n",
              "      <td>0</td>\n",
              "      <td>...</td>\n",
              "      <td>0.30</td>\n",
              "      <td>0.03</td>\n",
              "      <td>0.30</td>\n",
              "      <td>0.00</td>\n",
              "      <td>0.00</td>\n",
              "      <td>0.00</td>\n",
              "      <td>0.00</td>\n",
              "      <td>0.00</td>\n",
              "      <td>normal</td>\n",
              "      <td>21</td>\n",
              "    </tr>\n",
              "  </tbody>\n",
              "</table>\n",
              "<p>125972 rows × 43 columns</p>\n",
              "</div>\n",
              "    <div class=\"colab-df-buttons\">\n",
              "\n",
              "  <div class=\"colab-df-container\">\n",
              "    <button class=\"colab-df-convert\" onclick=\"convertToInteractive('df-aef65e14-bd59-4d39-8de3-f60e0ee2e019')\"\n",
              "            title=\"Convert this dataframe to an interactive table.\"\n",
              "            style=\"display:none;\">\n",
              "\n",
              "  <svg xmlns=\"http://www.w3.org/2000/svg\" height=\"24px\" viewBox=\"0 -960 960 960\">\n",
              "    <path d=\"M120-120v-720h720v720H120Zm60-500h600v-160H180v160Zm220 220h160v-160H400v160Zm0 220h160v-160H400v160ZM180-400h160v-160H180v160Zm440 0h160v-160H620v160ZM180-180h160v-160H180v160Zm440 0h160v-160H620v160Z\"/>\n",
              "  </svg>\n",
              "    </button>\n",
              "\n",
              "  <style>\n",
              "    .colab-df-container {\n",
              "      display:flex;\n",
              "      gap: 12px;\n",
              "    }\n",
              "\n",
              "    .colab-df-convert {\n",
              "      background-color: #E8F0FE;\n",
              "      border: none;\n",
              "      border-radius: 50%;\n",
              "      cursor: pointer;\n",
              "      display: none;\n",
              "      fill: #1967D2;\n",
              "      height: 32px;\n",
              "      padding: 0 0 0 0;\n",
              "      width: 32px;\n",
              "    }\n",
              "\n",
              "    .colab-df-convert:hover {\n",
              "      background-color: #E2EBFA;\n",
              "      box-shadow: 0px 1px 2px rgba(60, 64, 67, 0.3), 0px 1px 3px 1px rgba(60, 64, 67, 0.15);\n",
              "      fill: #174EA6;\n",
              "    }\n",
              "\n",
              "    .colab-df-buttons div {\n",
              "      margin-bottom: 4px;\n",
              "    }\n",
              "\n",
              "    [theme=dark] .colab-df-convert {\n",
              "      background-color: #3B4455;\n",
              "      fill: #D2E3FC;\n",
              "    }\n",
              "\n",
              "    [theme=dark] .colab-df-convert:hover {\n",
              "      background-color: #434B5C;\n",
              "      box-shadow: 0px 1px 3px 1px rgba(0, 0, 0, 0.15);\n",
              "      filter: drop-shadow(0px 1px 2px rgba(0, 0, 0, 0.3));\n",
              "      fill: #FFFFFF;\n",
              "    }\n",
              "  </style>\n",
              "\n",
              "    <script>\n",
              "      const buttonEl =\n",
              "        document.querySelector('#df-aef65e14-bd59-4d39-8de3-f60e0ee2e019 button.colab-df-convert');\n",
              "      buttonEl.style.display =\n",
              "        google.colab.kernel.accessAllowed ? 'block' : 'none';\n",
              "\n",
              "      async function convertToInteractive(key) {\n",
              "        const element = document.querySelector('#df-aef65e14-bd59-4d39-8de3-f60e0ee2e019');\n",
              "        const dataTable =\n",
              "          await google.colab.kernel.invokeFunction('convertToInteractive',\n",
              "                                                    [key], {});\n",
              "        if (!dataTable) return;\n",
              "\n",
              "        const docLinkHtml = 'Like what you see? Visit the ' +\n",
              "          '<a target=\"_blank\" href=https://colab.research.google.com/notebooks/data_table.ipynb>data table notebook</a>'\n",
              "          + ' to learn more about interactive tables.';\n",
              "        element.innerHTML = '';\n",
              "        dataTable['output_type'] = 'display_data';\n",
              "        await google.colab.output.renderOutput(dataTable, element);\n",
              "        const docLink = document.createElement('div');\n",
              "        docLink.innerHTML = docLinkHtml;\n",
              "        element.appendChild(docLink);\n",
              "      }\n",
              "    </script>\n",
              "  </div>\n",
              "\n",
              "\n",
              "<div id=\"df-76975854-87af-4df3-9b0b-6c315810c289\">\n",
              "  <button class=\"colab-df-quickchart\" onclick=\"quickchart('df-76975854-87af-4df3-9b0b-6c315810c289')\"\n",
              "            title=\"Suggest charts\"\n",
              "            style=\"display:none;\">\n",
              "\n",
              "<svg xmlns=\"http://www.w3.org/2000/svg\" height=\"24px\"viewBox=\"0 0 24 24\"\n",
              "     width=\"24px\">\n",
              "    <g>\n",
              "        <path d=\"M19 3H5c-1.1 0-2 .9-2 2v14c0 1.1.9 2 2 2h14c1.1 0 2-.9 2-2V5c0-1.1-.9-2-2-2zM9 17H7v-7h2v7zm4 0h-2V7h2v10zm4 0h-2v-4h2v4z\"/>\n",
              "    </g>\n",
              "</svg>\n",
              "  </button>\n",
              "\n",
              "<style>\n",
              "  .colab-df-quickchart {\n",
              "      --bg-color: #E8F0FE;\n",
              "      --fill-color: #1967D2;\n",
              "      --hover-bg-color: #E2EBFA;\n",
              "      --hover-fill-color: #174EA6;\n",
              "      --disabled-fill-color: #AAA;\n",
              "      --disabled-bg-color: #DDD;\n",
              "  }\n",
              "\n",
              "  [theme=dark] .colab-df-quickchart {\n",
              "      --bg-color: #3B4455;\n",
              "      --fill-color: #D2E3FC;\n",
              "      --hover-bg-color: #434B5C;\n",
              "      --hover-fill-color: #FFFFFF;\n",
              "      --disabled-bg-color: #3B4455;\n",
              "      --disabled-fill-color: #666;\n",
              "  }\n",
              "\n",
              "  .colab-df-quickchart {\n",
              "    background-color: var(--bg-color);\n",
              "    border: none;\n",
              "    border-radius: 50%;\n",
              "    cursor: pointer;\n",
              "    display: none;\n",
              "    fill: var(--fill-color);\n",
              "    height: 32px;\n",
              "    padding: 0;\n",
              "    width: 32px;\n",
              "  }\n",
              "\n",
              "  .colab-df-quickchart:hover {\n",
              "    background-color: var(--hover-bg-color);\n",
              "    box-shadow: 0 1px 2px rgba(60, 64, 67, 0.3), 0 1px 3px 1px rgba(60, 64, 67, 0.15);\n",
              "    fill: var(--button-hover-fill-color);\n",
              "  }\n",
              "\n",
              "  .colab-df-quickchart-complete:disabled,\n",
              "  .colab-df-quickchart-complete:disabled:hover {\n",
              "    background-color: var(--disabled-bg-color);\n",
              "    fill: var(--disabled-fill-color);\n",
              "    box-shadow: none;\n",
              "  }\n",
              "\n",
              "  .colab-df-spinner {\n",
              "    border: 2px solid var(--fill-color);\n",
              "    border-color: transparent;\n",
              "    border-bottom-color: var(--fill-color);\n",
              "    animation:\n",
              "      spin 1s steps(1) infinite;\n",
              "  }\n",
              "\n",
              "  @keyframes spin {\n",
              "    0% {\n",
              "      border-color: transparent;\n",
              "      border-bottom-color: var(--fill-color);\n",
              "      border-left-color: var(--fill-color);\n",
              "    }\n",
              "    20% {\n",
              "      border-color: transparent;\n",
              "      border-left-color: var(--fill-color);\n",
              "      border-top-color: var(--fill-color);\n",
              "    }\n",
              "    30% {\n",
              "      border-color: transparent;\n",
              "      border-left-color: var(--fill-color);\n",
              "      border-top-color: var(--fill-color);\n",
              "      border-right-color: var(--fill-color);\n",
              "    }\n",
              "    40% {\n",
              "      border-color: transparent;\n",
              "      border-right-color: var(--fill-color);\n",
              "      border-top-color: var(--fill-color);\n",
              "    }\n",
              "    60% {\n",
              "      border-color: transparent;\n",
              "      border-right-color: var(--fill-color);\n",
              "    }\n",
              "    80% {\n",
              "      border-color: transparent;\n",
              "      border-right-color: var(--fill-color);\n",
              "      border-bottom-color: var(--fill-color);\n",
              "    }\n",
              "    90% {\n",
              "      border-color: transparent;\n",
              "      border-bottom-color: var(--fill-color);\n",
              "    }\n",
              "  }\n",
              "</style>\n",
              "\n",
              "  <script>\n",
              "    async function quickchart(key) {\n",
              "      const quickchartButtonEl =\n",
              "        document.querySelector('#' + key + ' button');\n",
              "      quickchartButtonEl.disabled = true;  // To prevent multiple clicks.\n",
              "      quickchartButtonEl.classList.add('colab-df-spinner');\n",
              "      try {\n",
              "        const charts = await google.colab.kernel.invokeFunction(\n",
              "            'suggestCharts', [key], {});\n",
              "      } catch (error) {\n",
              "        console.error('Error during call to suggestCharts:', error);\n",
              "      }\n",
              "      quickchartButtonEl.classList.remove('colab-df-spinner');\n",
              "      quickchartButtonEl.classList.add('colab-df-quickchart-complete');\n",
              "    }\n",
              "    (() => {\n",
              "      let quickchartButtonEl =\n",
              "        document.querySelector('#df-76975854-87af-4df3-9b0b-6c315810c289 button');\n",
              "      quickchartButtonEl.style.display =\n",
              "        google.colab.kernel.accessAllowed ? 'block' : 'none';\n",
              "    })();\n",
              "  </script>\n",
              "</div>\n",
              "    </div>\n",
              "  </div>\n"
            ]
          },
          "metadata": {},
          "execution_count": 3
        }
      ],
      "source": [
        "Data"
      ]
    },
    {
      "cell_type": "code",
      "execution_count": null,
      "metadata": {
        "id": "NF9SsbffRu8Y"
      },
      "outputs": [],
      "source": [
        "features = [\"protocol_type\",\"service\",\"flag\",\"src_bytes\",\n",
        "    \"dst_bytes\",\"land\",\"wrong_fragment\",\"urgent\",\"hot\",\"num_failed_logins\",\n",
        "    \"logged_in\",\"num_compromised\",\"root_shell\",\"su_attempted\",'num_root','num_file_creations','num_shells','num_access_files','num_outbound_cmds',\n",
        "'is_host_login',\n",
        "'is_guest_login',\n",
        "'count',\n",
        "'srv_count',\n",
        "'serror_rate',\n",
        "'srv_serror_rate',\n",
        "'rerror_rate',\n",
        "'srv_rerror_rate',\n",
        "'same_srv_rate',\n",
        "'diff_srv_rate',\n",
        "'srv_diff_host_rate',\n",
        "'dst_host_count',\n",
        "'dst_host_srv_count',\n",
        "'dst_host_same_srv_rate',\n",
        "'dst_host_diff_srv_rate',\n",
        "'dst_host_same_src_port_rate',\n",
        "'dst_host_srv_diff_host_rate',\n",
        "'dst_host_serror_rate',\n",
        "'dst_host_srv_serror_rate',\n",
        "'dst_host_rerror_rate',\n",
        "'dst_host_srv_rerror_rate',\n",
        "'intrusion_type','duration']"
      ]
    },
    {
      "cell_type": "code",
      "execution_count": null,
      "metadata": {
        "id": "C_6D59qpSJ3d",
        "colab": {
          "base_uri": "https://localhost:8080/",
          "height": 255
        },
        "outputId": "b311aa18-b6d1-4565-c907-da0063451b5d"
      },
      "outputs": [
        {
          "output_type": "execute_result",
          "data": {
            "text/plain": [
              "  protocol_type   service flag  src_bytes  dst_bytes  land  wrong_fragment  \\\n",
              "0           tcp  ftp_data   SF        491          0     0               0   \n",
              "0           udp     other   SF        146          0     0               0   \n",
              "0           tcp   private   S0          0          0     0               0   \n",
              "0           tcp      http   SF        232       8153     0               0   \n",
              "0           tcp      http   SF        199        420     0               0   \n",
              "\n",
              "   urgent  hot  num_failed_logins  ...  dst_host_same_srv_rate  \\\n",
              "0       0    0                  0  ...                    0.17   \n",
              "0       0    0                  0  ...                    0.00   \n",
              "0       0    0                  0  ...                    0.10   \n",
              "0       0    0                  0  ...                    1.00   \n",
              "0       0    0                  0  ...                    1.00   \n",
              "\n",
              "   dst_host_diff_srv_rate  dst_host_same_src_port_rate  \\\n",
              "0                    0.03                         0.17   \n",
              "0                    0.60                         0.88   \n",
              "0                    0.05                         0.00   \n",
              "0                    0.00                         0.03   \n",
              "0                    0.00                         0.00   \n",
              "\n",
              "   dst_host_srv_diff_host_rate  dst_host_serror_rate  \\\n",
              "0                         0.00                  0.00   \n",
              "0                         0.00                  0.00   \n",
              "0                         0.00                  1.00   \n",
              "0                         0.04                  0.03   \n",
              "0                         0.00                  0.00   \n",
              "\n",
              "   dst_host_srv_serror_rate  dst_host_rerror_rate  dst_host_srv_rerror_rate  \\\n",
              "0                      0.00                  0.05                      0.00   \n",
              "0                      0.00                  0.00                      0.00   \n",
              "0                      1.00                  0.00                      0.00   \n",
              "0                      0.01                  0.00                      0.01   \n",
              "0                      0.00                  0.00                      0.00   \n",
              "\n",
              "   intrusion_type  duration  \n",
              "0          normal        20  \n",
              "0          normal        15  \n",
              "0         neptune        19  \n",
              "0          normal        21  \n",
              "0          normal        21  \n",
              "\n",
              "[5 rows x 42 columns]"
            ],
            "text/html": [
              "\n",
              "  <div id=\"df-bf80787d-6646-4c5d-a984-98e3bcb1c2a1\" class=\"colab-df-container\">\n",
              "    <div>\n",
              "<style scoped>\n",
              "    .dataframe tbody tr th:only-of-type {\n",
              "        vertical-align: middle;\n",
              "    }\n",
              "\n",
              "    .dataframe tbody tr th {\n",
              "        vertical-align: top;\n",
              "    }\n",
              "\n",
              "    .dataframe thead th {\n",
              "        text-align: right;\n",
              "    }\n",
              "</style>\n",
              "<table border=\"1\" class=\"dataframe\">\n",
              "  <thead>\n",
              "    <tr style=\"text-align: right;\">\n",
              "      <th></th>\n",
              "      <th>protocol_type</th>\n",
              "      <th>service</th>\n",
              "      <th>flag</th>\n",
              "      <th>src_bytes</th>\n",
              "      <th>dst_bytes</th>\n",
              "      <th>land</th>\n",
              "      <th>wrong_fragment</th>\n",
              "      <th>urgent</th>\n",
              "      <th>hot</th>\n",
              "      <th>num_failed_logins</th>\n",
              "      <th>...</th>\n",
              "      <th>dst_host_same_srv_rate</th>\n",
              "      <th>dst_host_diff_srv_rate</th>\n",
              "      <th>dst_host_same_src_port_rate</th>\n",
              "      <th>dst_host_srv_diff_host_rate</th>\n",
              "      <th>dst_host_serror_rate</th>\n",
              "      <th>dst_host_srv_serror_rate</th>\n",
              "      <th>dst_host_rerror_rate</th>\n",
              "      <th>dst_host_srv_rerror_rate</th>\n",
              "      <th>intrusion_type</th>\n",
              "      <th>duration</th>\n",
              "    </tr>\n",
              "  </thead>\n",
              "  <tbody>\n",
              "    <tr>\n",
              "      <th>0</th>\n",
              "      <td>tcp</td>\n",
              "      <td>ftp_data</td>\n",
              "      <td>SF</td>\n",
              "      <td>491</td>\n",
              "      <td>0</td>\n",
              "      <td>0</td>\n",
              "      <td>0</td>\n",
              "      <td>0</td>\n",
              "      <td>0</td>\n",
              "      <td>0</td>\n",
              "      <td>...</td>\n",
              "      <td>0.17</td>\n",
              "      <td>0.03</td>\n",
              "      <td>0.17</td>\n",
              "      <td>0.00</td>\n",
              "      <td>0.00</td>\n",
              "      <td>0.00</td>\n",
              "      <td>0.05</td>\n",
              "      <td>0.00</td>\n",
              "      <td>normal</td>\n",
              "      <td>20</td>\n",
              "    </tr>\n",
              "    <tr>\n",
              "      <th>0</th>\n",
              "      <td>udp</td>\n",
              "      <td>other</td>\n",
              "      <td>SF</td>\n",
              "      <td>146</td>\n",
              "      <td>0</td>\n",
              "      <td>0</td>\n",
              "      <td>0</td>\n",
              "      <td>0</td>\n",
              "      <td>0</td>\n",
              "      <td>0</td>\n",
              "      <td>...</td>\n",
              "      <td>0.00</td>\n",
              "      <td>0.60</td>\n",
              "      <td>0.88</td>\n",
              "      <td>0.00</td>\n",
              "      <td>0.00</td>\n",
              "      <td>0.00</td>\n",
              "      <td>0.00</td>\n",
              "      <td>0.00</td>\n",
              "      <td>normal</td>\n",
              "      <td>15</td>\n",
              "    </tr>\n",
              "    <tr>\n",
              "      <th>0</th>\n",
              "      <td>tcp</td>\n",
              "      <td>private</td>\n",
              "      <td>S0</td>\n",
              "      <td>0</td>\n",
              "      <td>0</td>\n",
              "      <td>0</td>\n",
              "      <td>0</td>\n",
              "      <td>0</td>\n",
              "      <td>0</td>\n",
              "      <td>0</td>\n",
              "      <td>...</td>\n",
              "      <td>0.10</td>\n",
              "      <td>0.05</td>\n",
              "      <td>0.00</td>\n",
              "      <td>0.00</td>\n",
              "      <td>1.00</td>\n",
              "      <td>1.00</td>\n",
              "      <td>0.00</td>\n",
              "      <td>0.00</td>\n",
              "      <td>neptune</td>\n",
              "      <td>19</td>\n",
              "    </tr>\n",
              "    <tr>\n",
              "      <th>0</th>\n",
              "      <td>tcp</td>\n",
              "      <td>http</td>\n",
              "      <td>SF</td>\n",
              "      <td>232</td>\n",
              "      <td>8153</td>\n",
              "      <td>0</td>\n",
              "      <td>0</td>\n",
              "      <td>0</td>\n",
              "      <td>0</td>\n",
              "      <td>0</td>\n",
              "      <td>...</td>\n",
              "      <td>1.00</td>\n",
              "      <td>0.00</td>\n",
              "      <td>0.03</td>\n",
              "      <td>0.04</td>\n",
              "      <td>0.03</td>\n",
              "      <td>0.01</td>\n",
              "      <td>0.00</td>\n",
              "      <td>0.01</td>\n",
              "      <td>normal</td>\n",
              "      <td>21</td>\n",
              "    </tr>\n",
              "    <tr>\n",
              "      <th>0</th>\n",
              "      <td>tcp</td>\n",
              "      <td>http</td>\n",
              "      <td>SF</td>\n",
              "      <td>199</td>\n",
              "      <td>420</td>\n",
              "      <td>0</td>\n",
              "      <td>0</td>\n",
              "      <td>0</td>\n",
              "      <td>0</td>\n",
              "      <td>0</td>\n",
              "      <td>...</td>\n",
              "      <td>1.00</td>\n",
              "      <td>0.00</td>\n",
              "      <td>0.00</td>\n",
              "      <td>0.00</td>\n",
              "      <td>0.00</td>\n",
              "      <td>0.00</td>\n",
              "      <td>0.00</td>\n",
              "      <td>0.00</td>\n",
              "      <td>normal</td>\n",
              "      <td>21</td>\n",
              "    </tr>\n",
              "  </tbody>\n",
              "</table>\n",
              "<p>5 rows × 42 columns</p>\n",
              "</div>\n",
              "    <div class=\"colab-df-buttons\">\n",
              "\n",
              "  <div class=\"colab-df-container\">\n",
              "    <button class=\"colab-df-convert\" onclick=\"convertToInteractive('df-bf80787d-6646-4c5d-a984-98e3bcb1c2a1')\"\n",
              "            title=\"Convert this dataframe to an interactive table.\"\n",
              "            style=\"display:none;\">\n",
              "\n",
              "  <svg xmlns=\"http://www.w3.org/2000/svg\" height=\"24px\" viewBox=\"0 -960 960 960\">\n",
              "    <path d=\"M120-120v-720h720v720H120Zm60-500h600v-160H180v160Zm220 220h160v-160H400v160Zm0 220h160v-160H400v160ZM180-400h160v-160H180v160Zm440 0h160v-160H620v160ZM180-180h160v-160H180v160Zm440 0h160v-160H620v160Z\"/>\n",
              "  </svg>\n",
              "    </button>\n",
              "\n",
              "  <style>\n",
              "    .colab-df-container {\n",
              "      display:flex;\n",
              "      gap: 12px;\n",
              "    }\n",
              "\n",
              "    .colab-df-convert {\n",
              "      background-color: #E8F0FE;\n",
              "      border: none;\n",
              "      border-radius: 50%;\n",
              "      cursor: pointer;\n",
              "      display: none;\n",
              "      fill: #1967D2;\n",
              "      height: 32px;\n",
              "      padding: 0 0 0 0;\n",
              "      width: 32px;\n",
              "    }\n",
              "\n",
              "    .colab-df-convert:hover {\n",
              "      background-color: #E2EBFA;\n",
              "      box-shadow: 0px 1px 2px rgba(60, 64, 67, 0.3), 0px 1px 3px 1px rgba(60, 64, 67, 0.15);\n",
              "      fill: #174EA6;\n",
              "    }\n",
              "\n",
              "    .colab-df-buttons div {\n",
              "      margin-bottom: 4px;\n",
              "    }\n",
              "\n",
              "    [theme=dark] .colab-df-convert {\n",
              "      background-color: #3B4455;\n",
              "      fill: #D2E3FC;\n",
              "    }\n",
              "\n",
              "    [theme=dark] .colab-df-convert:hover {\n",
              "      background-color: #434B5C;\n",
              "      box-shadow: 0px 1px 3px 1px rgba(0, 0, 0, 0.15);\n",
              "      filter: drop-shadow(0px 1px 2px rgba(0, 0, 0, 0.3));\n",
              "      fill: #FFFFFF;\n",
              "    }\n",
              "  </style>\n",
              "\n",
              "    <script>\n",
              "      const buttonEl =\n",
              "        document.querySelector('#df-bf80787d-6646-4c5d-a984-98e3bcb1c2a1 button.colab-df-convert');\n",
              "      buttonEl.style.display =\n",
              "        google.colab.kernel.accessAllowed ? 'block' : 'none';\n",
              "\n",
              "      async function convertToInteractive(key) {\n",
              "        const element = document.querySelector('#df-bf80787d-6646-4c5d-a984-98e3bcb1c2a1');\n",
              "        const dataTable =\n",
              "          await google.colab.kernel.invokeFunction('convertToInteractive',\n",
              "                                                    [key], {});\n",
              "        if (!dataTable) return;\n",
              "\n",
              "        const docLinkHtml = 'Like what you see? Visit the ' +\n",
              "          '<a target=\"_blank\" href=https://colab.research.google.com/notebooks/data_table.ipynb>data table notebook</a>'\n",
              "          + ' to learn more about interactive tables.';\n",
              "        element.innerHTML = '';\n",
              "        dataTable['output_type'] = 'display_data';\n",
              "        await google.colab.output.renderOutput(dataTable, element);\n",
              "        const docLink = document.createElement('div');\n",
              "        docLink.innerHTML = docLinkHtml;\n",
              "        element.appendChild(docLink);\n",
              "      }\n",
              "    </script>\n",
              "  </div>\n",
              "\n",
              "\n",
              "<div id=\"df-28f3d1bd-9351-481f-8346-74a135dc30f6\">\n",
              "  <button class=\"colab-df-quickchart\" onclick=\"quickchart('df-28f3d1bd-9351-481f-8346-74a135dc30f6')\"\n",
              "            title=\"Suggest charts\"\n",
              "            style=\"display:none;\">\n",
              "\n",
              "<svg xmlns=\"http://www.w3.org/2000/svg\" height=\"24px\"viewBox=\"0 0 24 24\"\n",
              "     width=\"24px\">\n",
              "    <g>\n",
              "        <path d=\"M19 3H5c-1.1 0-2 .9-2 2v14c0 1.1.9 2 2 2h14c1.1 0 2-.9 2-2V5c0-1.1-.9-2-2-2zM9 17H7v-7h2v7zm4 0h-2V7h2v10zm4 0h-2v-4h2v4z\"/>\n",
              "    </g>\n",
              "</svg>\n",
              "  </button>\n",
              "\n",
              "<style>\n",
              "  .colab-df-quickchart {\n",
              "      --bg-color: #E8F0FE;\n",
              "      --fill-color: #1967D2;\n",
              "      --hover-bg-color: #E2EBFA;\n",
              "      --hover-fill-color: #174EA6;\n",
              "      --disabled-fill-color: #AAA;\n",
              "      --disabled-bg-color: #DDD;\n",
              "  }\n",
              "\n",
              "  [theme=dark] .colab-df-quickchart {\n",
              "      --bg-color: #3B4455;\n",
              "      --fill-color: #D2E3FC;\n",
              "      --hover-bg-color: #434B5C;\n",
              "      --hover-fill-color: #FFFFFF;\n",
              "      --disabled-bg-color: #3B4455;\n",
              "      --disabled-fill-color: #666;\n",
              "  }\n",
              "\n",
              "  .colab-df-quickchart {\n",
              "    background-color: var(--bg-color);\n",
              "    border: none;\n",
              "    border-radius: 50%;\n",
              "    cursor: pointer;\n",
              "    display: none;\n",
              "    fill: var(--fill-color);\n",
              "    height: 32px;\n",
              "    padding: 0;\n",
              "    width: 32px;\n",
              "  }\n",
              "\n",
              "  .colab-df-quickchart:hover {\n",
              "    background-color: var(--hover-bg-color);\n",
              "    box-shadow: 0 1px 2px rgba(60, 64, 67, 0.3), 0 1px 3px 1px rgba(60, 64, 67, 0.15);\n",
              "    fill: var(--button-hover-fill-color);\n",
              "  }\n",
              "\n",
              "  .colab-df-quickchart-complete:disabled,\n",
              "  .colab-df-quickchart-complete:disabled:hover {\n",
              "    background-color: var(--disabled-bg-color);\n",
              "    fill: var(--disabled-fill-color);\n",
              "    box-shadow: none;\n",
              "  }\n",
              "\n",
              "  .colab-df-spinner {\n",
              "    border: 2px solid var(--fill-color);\n",
              "    border-color: transparent;\n",
              "    border-bottom-color: var(--fill-color);\n",
              "    animation:\n",
              "      spin 1s steps(1) infinite;\n",
              "  }\n",
              "\n",
              "  @keyframes spin {\n",
              "    0% {\n",
              "      border-color: transparent;\n",
              "      border-bottom-color: var(--fill-color);\n",
              "      border-left-color: var(--fill-color);\n",
              "    }\n",
              "    20% {\n",
              "      border-color: transparent;\n",
              "      border-left-color: var(--fill-color);\n",
              "      border-top-color: var(--fill-color);\n",
              "    }\n",
              "    30% {\n",
              "      border-color: transparent;\n",
              "      border-left-color: var(--fill-color);\n",
              "      border-top-color: var(--fill-color);\n",
              "      border-right-color: var(--fill-color);\n",
              "    }\n",
              "    40% {\n",
              "      border-color: transparent;\n",
              "      border-right-color: var(--fill-color);\n",
              "      border-top-color: var(--fill-color);\n",
              "    }\n",
              "    60% {\n",
              "      border-color: transparent;\n",
              "      border-right-color: var(--fill-color);\n",
              "    }\n",
              "    80% {\n",
              "      border-color: transparent;\n",
              "      border-right-color: var(--fill-color);\n",
              "      border-bottom-color: var(--fill-color);\n",
              "    }\n",
              "    90% {\n",
              "      border-color: transparent;\n",
              "      border-bottom-color: var(--fill-color);\n",
              "    }\n",
              "  }\n",
              "</style>\n",
              "\n",
              "  <script>\n",
              "    async function quickchart(key) {\n",
              "      const quickchartButtonEl =\n",
              "        document.querySelector('#' + key + ' button');\n",
              "      quickchartButtonEl.disabled = true;  // To prevent multiple clicks.\n",
              "      quickchartButtonEl.classList.add('colab-df-spinner');\n",
              "      try {\n",
              "        const charts = await google.colab.kernel.invokeFunction(\n",
              "            'suggestCharts', [key], {});\n",
              "      } catch (error) {\n",
              "        console.error('Error during call to suggestCharts:', error);\n",
              "      }\n",
              "      quickchartButtonEl.classList.remove('colab-df-spinner');\n",
              "      quickchartButtonEl.classList.add('colab-df-quickchart-complete');\n",
              "    }\n",
              "    (() => {\n",
              "      let quickchartButtonEl =\n",
              "        document.querySelector('#df-28f3d1bd-9351-481f-8346-74a135dc30f6 button');\n",
              "      quickchartButtonEl.style.display =\n",
              "        google.colab.kernel.accessAllowed ? 'block' : 'none';\n",
              "    })();\n",
              "  </script>\n",
              "</div>\n",
              "    </div>\n",
              "  </div>\n"
            ]
          },
          "metadata": {},
          "execution_count": 5
        }
      ],
      "source": [
        "data_train = pd.read_csv(\"/content/drive/MyDrive/IntrsiondetectionDataSet/KDDTrain+.txt\", names=features, header=None)\n",
        "data_train.head()"
      ]
    },
    {
      "cell_type": "code",
      "execution_count": null,
      "metadata": {
        "id": "6tFov_14SPr6",
        "colab": {
          "base_uri": "https://localhost:8080/"
        },
        "outputId": "401bad31-a630-4466-ac90-5617fe92be0e"
      },
      "outputs": [
        {
          "output_type": "stream",
          "name": "stdout",
          "text": [
            "The no of data points are: 125973\n",
            " \n",
            "The no of features are: 42\n",
            " \n",
            "Some of the features are: ['protocol_type', 'service', 'flag', 'src_bytes', 'dst_bytes', 'land', 'wrong_fragment', 'urgent', 'hot', 'num_failed_logins']\n"
          ]
        }
      ],
      "source": [
        "print('The no of data points are:',data_train.shape[0])\n",
        "print(' ')\n",
        "print('The no of features are:',data_train.shape[1])\n",
        "print(' ')\n",
        "print('Some of the features are:',features[:10])"
      ]
    },
    {
      "cell_type": "code",
      "execution_count": null,
      "metadata": {
        "id": "0vM4NctpSzhO"
      },
      "outputs": [],
      "source": [
        "output = data_train['intrusion_type'].values\n",
        "labels = set(output)"
      ]
    },
    {
      "cell_type": "code",
      "execution_count": null,
      "metadata": {
        "id": "8bYJo5yoS6we",
        "colab": {
          "base_uri": "https://localhost:8080/"
        },
        "outputId": "5803f465-51e2-4bd7-c8d0-15baad4d0be9"
      },
      "outputs": [
        {
          "output_type": "stream",
          "name": "stdout",
          "text": [
            "Different types of output labels are :  {'spy', 'warezclient', 'pod', 'loadmodule', 'normal', 'imap', 'buffer_overflow', 'neptune', 'portsweep', 'nmap', 'land', 'rootkit', 'warezmaster', 'multihop', 'teardrop', 'phf', 'satan', 'ftp_write', 'perl', 'ipsweep', 'smurf', 'back', 'guess_passwd'}\n",
            "\n",
            "No of different types of output labels :  23\n"
          ]
        }
      ],
      "source": [
        "print('Different types of output labels are : ',labels)\n",
        "print('')\n",
        "print('No of different types of output labels : ',len(labels))"
      ]
    },
    {
      "cell_type": "markdown",
      "metadata": {
        "id": "a2FxVP5-TcqX"
      },
      "source": [
        "**DATA CLEANING**"
      ]
    },
    {
      "cell_type": "code",
      "execution_count": null,
      "metadata": {
        "id": "ssfK2odjTkbk",
        "colab": {
          "base_uri": "https://localhost:8080/"
        },
        "outputId": "6f4132b4-f4bd-4a27-e645-5851be9a70ef"
      },
      "outputs": [
        {
          "output_type": "stream",
          "name": "stdout",
          "text": [
            "Total no of NULL values:  0\n"
          ]
        },
        {
          "output_type": "stream",
          "name": "stderr",
          "text": [
            "<ipython-input-9-289a716df0ae>:1: FutureWarning: In a future version of pandas all arguments of DataFrame.any and Series.any will be keyword-only.\n",
            "  print('Total no of NULL values: ', len(data_train[data_train.isnull().any(1)]))\n"
          ]
        }
      ],
      "source": [
        "print('Total no of NULL values: ', len(data_train[data_train.isnull().any(1)]))"
      ]
    },
    {
      "cell_type": "code",
      "execution_count": null,
      "metadata": {
        "id": "-Q-mgKhWTzoi"
      },
      "outputs": [],
      "source": [
        "duplicateRows = data_train[data_train.duplicated()]\n"
      ]
    },
    {
      "cell_type": "code",
      "execution_count": null,
      "metadata": {
        "id": "dDqUdvRtUZmJ",
        "colab": {
          "base_uri": "https://localhost:8080/",
          "height": 255
        },
        "outputId": "9aab48f5-63fa-4698-9d33-64f0750801b1"
      },
      "outputs": [
        {
          "output_type": "execute_result",
          "data": {
            "text/plain": [
              "      protocol_type  service  flag  src_bytes  dst_bytes  land  \\\n",
              "9235            tcp    other  RSTR          1          0     0   \n",
              "1051            tcp    other  RSTR          1          0     0   \n",
              "37815           tcp  private  RSTR          1          0     0   \n",
              "37874           tcp  private  RSTR          1          0     0   \n",
              "37749           tcp  private  RSTR          1          0     0   \n",
              "\n",
              "       wrong_fragment  urgent  hot  num_failed_logins  ...  \\\n",
              "9235                0       0    0                  0  ...   \n",
              "1051                0       0    0                  0  ...   \n",
              "37815               0       0    0                  0  ...   \n",
              "37874               0       0    0                  0  ...   \n",
              "37749               0       0    0                  0  ...   \n",
              "\n",
              "       dst_host_same_srv_rate  dst_host_diff_srv_rate  \\\n",
              "9235                     0.01                    0.74   \n",
              "1051                     0.01                    0.73   \n",
              "37815                    0.01                    0.50   \n",
              "37874                    0.01                    0.50   \n",
              "37749                    0.01                    0.50   \n",
              "\n",
              "       dst_host_same_src_port_rate  dst_host_srv_diff_host_rate  \\\n",
              "9235                           1.0                          0.0   \n",
              "1051                           1.0                          0.0   \n",
              "37815                          1.0                          0.0   \n",
              "37874                          1.0                          0.0   \n",
              "37749                          1.0                          0.0   \n",
              "\n",
              "       dst_host_serror_rate  dst_host_srv_serror_rate  dst_host_rerror_rate  \\\n",
              "9235                    0.0                       0.0                   1.0   \n",
              "1051                    0.0                       0.0                   1.0   \n",
              "37815                   0.0                       0.0                   1.0   \n",
              "37874                   0.0                       0.0                   1.0   \n",
              "37749                   0.0                       0.0                   1.0   \n",
              "\n",
              "       dst_host_srv_rerror_rate  intrusion_type  duration  \n",
              "9235                        1.0       portsweep        15  \n",
              "1051                        1.0       portsweep        15  \n",
              "37815                       1.0       portsweep        15  \n",
              "37874                       1.0       portsweep        15  \n",
              "37749                       1.0       portsweep        15  \n",
              "\n",
              "[5 rows x 42 columns]"
            ],
            "text/html": [
              "\n",
              "  <div id=\"df-0031a772-0bc1-437c-94f8-d638ccb3d5af\" class=\"colab-df-container\">\n",
              "    <div>\n",
              "<style scoped>\n",
              "    .dataframe tbody tr th:only-of-type {\n",
              "        vertical-align: middle;\n",
              "    }\n",
              "\n",
              "    .dataframe tbody tr th {\n",
              "        vertical-align: top;\n",
              "    }\n",
              "\n",
              "    .dataframe thead th {\n",
              "        text-align: right;\n",
              "    }\n",
              "</style>\n",
              "<table border=\"1\" class=\"dataframe\">\n",
              "  <thead>\n",
              "    <tr style=\"text-align: right;\">\n",
              "      <th></th>\n",
              "      <th>protocol_type</th>\n",
              "      <th>service</th>\n",
              "      <th>flag</th>\n",
              "      <th>src_bytes</th>\n",
              "      <th>dst_bytes</th>\n",
              "      <th>land</th>\n",
              "      <th>wrong_fragment</th>\n",
              "      <th>urgent</th>\n",
              "      <th>hot</th>\n",
              "      <th>num_failed_logins</th>\n",
              "      <th>...</th>\n",
              "      <th>dst_host_same_srv_rate</th>\n",
              "      <th>dst_host_diff_srv_rate</th>\n",
              "      <th>dst_host_same_src_port_rate</th>\n",
              "      <th>dst_host_srv_diff_host_rate</th>\n",
              "      <th>dst_host_serror_rate</th>\n",
              "      <th>dst_host_srv_serror_rate</th>\n",
              "      <th>dst_host_rerror_rate</th>\n",
              "      <th>dst_host_srv_rerror_rate</th>\n",
              "      <th>intrusion_type</th>\n",
              "      <th>duration</th>\n",
              "    </tr>\n",
              "  </thead>\n",
              "  <tbody>\n",
              "    <tr>\n",
              "      <th>9235</th>\n",
              "      <td>tcp</td>\n",
              "      <td>other</td>\n",
              "      <td>RSTR</td>\n",
              "      <td>1</td>\n",
              "      <td>0</td>\n",
              "      <td>0</td>\n",
              "      <td>0</td>\n",
              "      <td>0</td>\n",
              "      <td>0</td>\n",
              "      <td>0</td>\n",
              "      <td>...</td>\n",
              "      <td>0.01</td>\n",
              "      <td>0.74</td>\n",
              "      <td>1.0</td>\n",
              "      <td>0.0</td>\n",
              "      <td>0.0</td>\n",
              "      <td>0.0</td>\n",
              "      <td>1.0</td>\n",
              "      <td>1.0</td>\n",
              "      <td>portsweep</td>\n",
              "      <td>15</td>\n",
              "    </tr>\n",
              "    <tr>\n",
              "      <th>1051</th>\n",
              "      <td>tcp</td>\n",
              "      <td>other</td>\n",
              "      <td>RSTR</td>\n",
              "      <td>1</td>\n",
              "      <td>0</td>\n",
              "      <td>0</td>\n",
              "      <td>0</td>\n",
              "      <td>0</td>\n",
              "      <td>0</td>\n",
              "      <td>0</td>\n",
              "      <td>...</td>\n",
              "      <td>0.01</td>\n",
              "      <td>0.73</td>\n",
              "      <td>1.0</td>\n",
              "      <td>0.0</td>\n",
              "      <td>0.0</td>\n",
              "      <td>0.0</td>\n",
              "      <td>1.0</td>\n",
              "      <td>1.0</td>\n",
              "      <td>portsweep</td>\n",
              "      <td>15</td>\n",
              "    </tr>\n",
              "    <tr>\n",
              "      <th>37815</th>\n",
              "      <td>tcp</td>\n",
              "      <td>private</td>\n",
              "      <td>RSTR</td>\n",
              "      <td>1</td>\n",
              "      <td>0</td>\n",
              "      <td>0</td>\n",
              "      <td>0</td>\n",
              "      <td>0</td>\n",
              "      <td>0</td>\n",
              "      <td>0</td>\n",
              "      <td>...</td>\n",
              "      <td>0.01</td>\n",
              "      <td>0.50</td>\n",
              "      <td>1.0</td>\n",
              "      <td>0.0</td>\n",
              "      <td>0.0</td>\n",
              "      <td>0.0</td>\n",
              "      <td>1.0</td>\n",
              "      <td>1.0</td>\n",
              "      <td>portsweep</td>\n",
              "      <td>15</td>\n",
              "    </tr>\n",
              "    <tr>\n",
              "      <th>37874</th>\n",
              "      <td>tcp</td>\n",
              "      <td>private</td>\n",
              "      <td>RSTR</td>\n",
              "      <td>1</td>\n",
              "      <td>0</td>\n",
              "      <td>0</td>\n",
              "      <td>0</td>\n",
              "      <td>0</td>\n",
              "      <td>0</td>\n",
              "      <td>0</td>\n",
              "      <td>...</td>\n",
              "      <td>0.01</td>\n",
              "      <td>0.50</td>\n",
              "      <td>1.0</td>\n",
              "      <td>0.0</td>\n",
              "      <td>0.0</td>\n",
              "      <td>0.0</td>\n",
              "      <td>1.0</td>\n",
              "      <td>1.0</td>\n",
              "      <td>portsweep</td>\n",
              "      <td>15</td>\n",
              "    </tr>\n",
              "    <tr>\n",
              "      <th>37749</th>\n",
              "      <td>tcp</td>\n",
              "      <td>private</td>\n",
              "      <td>RSTR</td>\n",
              "      <td>1</td>\n",
              "      <td>0</td>\n",
              "      <td>0</td>\n",
              "      <td>0</td>\n",
              "      <td>0</td>\n",
              "      <td>0</td>\n",
              "      <td>0</td>\n",
              "      <td>...</td>\n",
              "      <td>0.01</td>\n",
              "      <td>0.50</td>\n",
              "      <td>1.0</td>\n",
              "      <td>0.0</td>\n",
              "      <td>0.0</td>\n",
              "      <td>0.0</td>\n",
              "      <td>1.0</td>\n",
              "      <td>1.0</td>\n",
              "      <td>portsweep</td>\n",
              "      <td>15</td>\n",
              "    </tr>\n",
              "  </tbody>\n",
              "</table>\n",
              "<p>5 rows × 42 columns</p>\n",
              "</div>\n",
              "    <div class=\"colab-df-buttons\">\n",
              "\n",
              "  <div class=\"colab-df-container\">\n",
              "    <button class=\"colab-df-convert\" onclick=\"convertToInteractive('df-0031a772-0bc1-437c-94f8-d638ccb3d5af')\"\n",
              "            title=\"Convert this dataframe to an interactive table.\"\n",
              "            style=\"display:none;\">\n",
              "\n",
              "  <svg xmlns=\"http://www.w3.org/2000/svg\" height=\"24px\" viewBox=\"0 -960 960 960\">\n",
              "    <path d=\"M120-120v-720h720v720H120Zm60-500h600v-160H180v160Zm220 220h160v-160H400v160Zm0 220h160v-160H400v160ZM180-400h160v-160H180v160Zm440 0h160v-160H620v160ZM180-180h160v-160H180v160Zm440 0h160v-160H620v160Z\"/>\n",
              "  </svg>\n",
              "    </button>\n",
              "\n",
              "  <style>\n",
              "    .colab-df-container {\n",
              "      display:flex;\n",
              "      gap: 12px;\n",
              "    }\n",
              "\n",
              "    .colab-df-convert {\n",
              "      background-color: #E8F0FE;\n",
              "      border: none;\n",
              "      border-radius: 50%;\n",
              "      cursor: pointer;\n",
              "      display: none;\n",
              "      fill: #1967D2;\n",
              "      height: 32px;\n",
              "      padding: 0 0 0 0;\n",
              "      width: 32px;\n",
              "    }\n",
              "\n",
              "    .colab-df-convert:hover {\n",
              "      background-color: #E2EBFA;\n",
              "      box-shadow: 0px 1px 2px rgba(60, 64, 67, 0.3), 0px 1px 3px 1px rgba(60, 64, 67, 0.15);\n",
              "      fill: #174EA6;\n",
              "    }\n",
              "\n",
              "    .colab-df-buttons div {\n",
              "      margin-bottom: 4px;\n",
              "    }\n",
              "\n",
              "    [theme=dark] .colab-df-convert {\n",
              "      background-color: #3B4455;\n",
              "      fill: #D2E3FC;\n",
              "    }\n",
              "\n",
              "    [theme=dark] .colab-df-convert:hover {\n",
              "      background-color: #434B5C;\n",
              "      box-shadow: 0px 1px 3px 1px rgba(0, 0, 0, 0.15);\n",
              "      filter: drop-shadow(0px 1px 2px rgba(0, 0, 0, 0.3));\n",
              "      fill: #FFFFFF;\n",
              "    }\n",
              "  </style>\n",
              "\n",
              "    <script>\n",
              "      const buttonEl =\n",
              "        document.querySelector('#df-0031a772-0bc1-437c-94f8-d638ccb3d5af button.colab-df-convert');\n",
              "      buttonEl.style.display =\n",
              "        google.colab.kernel.accessAllowed ? 'block' : 'none';\n",
              "\n",
              "      async function convertToInteractive(key) {\n",
              "        const element = document.querySelector('#df-0031a772-0bc1-437c-94f8-d638ccb3d5af');\n",
              "        const dataTable =\n",
              "          await google.colab.kernel.invokeFunction('convertToInteractive',\n",
              "                                                    [key], {});\n",
              "        if (!dataTable) return;\n",
              "\n",
              "        const docLinkHtml = 'Like what you see? Visit the ' +\n",
              "          '<a target=\"_blank\" href=https://colab.research.google.com/notebooks/data_table.ipynb>data table notebook</a>'\n",
              "          + ' to learn more about interactive tables.';\n",
              "        element.innerHTML = '';\n",
              "        dataTable['output_type'] = 'display_data';\n",
              "        await google.colab.output.renderOutput(dataTable, element);\n",
              "        const docLink = document.createElement('div');\n",
              "        docLink.innerHTML = docLinkHtml;\n",
              "        element.appendChild(docLink);\n",
              "      }\n",
              "    </script>\n",
              "  </div>\n",
              "\n",
              "\n",
              "<div id=\"df-a5cdb473-6057-4c2e-bb2a-280c15c95119\">\n",
              "  <button class=\"colab-df-quickchart\" onclick=\"quickchart('df-a5cdb473-6057-4c2e-bb2a-280c15c95119')\"\n",
              "            title=\"Suggest charts\"\n",
              "            style=\"display:none;\">\n",
              "\n",
              "<svg xmlns=\"http://www.w3.org/2000/svg\" height=\"24px\"viewBox=\"0 0 24 24\"\n",
              "     width=\"24px\">\n",
              "    <g>\n",
              "        <path d=\"M19 3H5c-1.1 0-2 .9-2 2v14c0 1.1.9 2 2 2h14c1.1 0 2-.9 2-2V5c0-1.1-.9-2-2-2zM9 17H7v-7h2v7zm4 0h-2V7h2v10zm4 0h-2v-4h2v4z\"/>\n",
              "    </g>\n",
              "</svg>\n",
              "  </button>\n",
              "\n",
              "<style>\n",
              "  .colab-df-quickchart {\n",
              "      --bg-color: #E8F0FE;\n",
              "      --fill-color: #1967D2;\n",
              "      --hover-bg-color: #E2EBFA;\n",
              "      --hover-fill-color: #174EA6;\n",
              "      --disabled-fill-color: #AAA;\n",
              "      --disabled-bg-color: #DDD;\n",
              "  }\n",
              "\n",
              "  [theme=dark] .colab-df-quickchart {\n",
              "      --bg-color: #3B4455;\n",
              "      --fill-color: #D2E3FC;\n",
              "      --hover-bg-color: #434B5C;\n",
              "      --hover-fill-color: #FFFFFF;\n",
              "      --disabled-bg-color: #3B4455;\n",
              "      --disabled-fill-color: #666;\n",
              "  }\n",
              "\n",
              "  .colab-df-quickchart {\n",
              "    background-color: var(--bg-color);\n",
              "    border: none;\n",
              "    border-radius: 50%;\n",
              "    cursor: pointer;\n",
              "    display: none;\n",
              "    fill: var(--fill-color);\n",
              "    height: 32px;\n",
              "    padding: 0;\n",
              "    width: 32px;\n",
              "  }\n",
              "\n",
              "  .colab-df-quickchart:hover {\n",
              "    background-color: var(--hover-bg-color);\n",
              "    box-shadow: 0 1px 2px rgba(60, 64, 67, 0.3), 0 1px 3px 1px rgba(60, 64, 67, 0.15);\n",
              "    fill: var(--button-hover-fill-color);\n",
              "  }\n",
              "\n",
              "  .colab-df-quickchart-complete:disabled,\n",
              "  .colab-df-quickchart-complete:disabled:hover {\n",
              "    background-color: var(--disabled-bg-color);\n",
              "    fill: var(--disabled-fill-color);\n",
              "    box-shadow: none;\n",
              "  }\n",
              "\n",
              "  .colab-df-spinner {\n",
              "    border: 2px solid var(--fill-color);\n",
              "    border-color: transparent;\n",
              "    border-bottom-color: var(--fill-color);\n",
              "    animation:\n",
              "      spin 1s steps(1) infinite;\n",
              "  }\n",
              "\n",
              "  @keyframes spin {\n",
              "    0% {\n",
              "      border-color: transparent;\n",
              "      border-bottom-color: var(--fill-color);\n",
              "      border-left-color: var(--fill-color);\n",
              "    }\n",
              "    20% {\n",
              "      border-color: transparent;\n",
              "      border-left-color: var(--fill-color);\n",
              "      border-top-color: var(--fill-color);\n",
              "    }\n",
              "    30% {\n",
              "      border-color: transparent;\n",
              "      border-left-color: var(--fill-color);\n",
              "      border-top-color: var(--fill-color);\n",
              "      border-right-color: var(--fill-color);\n",
              "    }\n",
              "    40% {\n",
              "      border-color: transparent;\n",
              "      border-right-color: var(--fill-color);\n",
              "      border-top-color: var(--fill-color);\n",
              "    }\n",
              "    60% {\n",
              "      border-color: transparent;\n",
              "      border-right-color: var(--fill-color);\n",
              "    }\n",
              "    80% {\n",
              "      border-color: transparent;\n",
              "      border-right-color: var(--fill-color);\n",
              "      border-bottom-color: var(--fill-color);\n",
              "    }\n",
              "    90% {\n",
              "      border-color: transparent;\n",
              "      border-bottom-color: var(--fill-color);\n",
              "    }\n",
              "  }\n",
              "</style>\n",
              "\n",
              "  <script>\n",
              "    async function quickchart(key) {\n",
              "      const quickchartButtonEl =\n",
              "        document.querySelector('#' + key + ' button');\n",
              "      quickchartButtonEl.disabled = true;  // To prevent multiple clicks.\n",
              "      quickchartButtonEl.classList.add('colab-df-spinner');\n",
              "      try {\n",
              "        const charts = await google.colab.kernel.invokeFunction(\n",
              "            'suggestCharts', [key], {});\n",
              "      } catch (error) {\n",
              "        console.error('Error during call to suggestCharts:', error);\n",
              "      }\n",
              "      quickchartButtonEl.classList.remove('colab-df-spinner');\n",
              "      quickchartButtonEl.classList.add('colab-df-quickchart-complete');\n",
              "    }\n",
              "    (() => {\n",
              "      let quickchartButtonEl =\n",
              "        document.querySelector('#df-a5cdb473-6057-4c2e-bb2a-280c15c95119 button');\n",
              "      quickchartButtonEl.style.display =\n",
              "        google.colab.kernel.accessAllowed ? 'block' : 'none';\n",
              "    })();\n",
              "  </script>\n",
              "</div>\n",
              "    </div>\n",
              "  </div>\n"
            ]
          },
          "metadata": {},
          "execution_count": 11
        }
      ],
      "source": [
        "duplicateRows.head()"
      ]
    },
    {
      "cell_type": "code",
      "execution_count": null,
      "metadata": {
        "id": "9g7bzKKAUg4T",
        "colab": {
          "base_uri": "https://localhost:8080/"
        },
        "outputId": "fd5e22dc-db5c-4373-cc9c-f944048f10fa"
      },
      "outputs": [
        {
          "output_type": "execute_result",
          "data": {
            "text/plain": [
              "52710"
            ]
          },
          "metadata": {},
          "execution_count": 12
        }
      ],
      "source": [
        "duplicateRows.size"
      ]
    },
    {
      "cell_type": "code",
      "execution_count": null,
      "metadata": {
        "id": "92WTzDOSVuFh"
      },
      "outputs": [],
      "source": [
        "data_train.drop_duplicates(subset=features, keep='first', inplace=True)\n",
        "data_train.shape"
      ]
    },
    {
      "cell_type": "code",
      "execution_count": null,
      "metadata": {
        "id": "MKMXnuq1V16n"
      },
      "outputs": [],
      "source": [
        "data_train.to_pickle('data_train.pkl')\n",
        "data_train = pd.read_pickle('data_train.pkl')"
      ]
    },
    {
      "cell_type": "code",
      "execution_count": null,
      "metadata": {
        "id": "kpvlozruc-S4"
      },
      "outputs": [],
      "source": [
        "plt.figure(figsize=(30,25))\n",
        "class_distribution = data_train['intrusion_type'].value_counts()\n",
        "class_distribution.plot(kind='bar')\n",
        "plt.xlabel('Class')\n",
        "plt.ylabel('Data points per class')\n",
        "plt.title('Distribution of intrusion in train data')\n",
        "plt.grid()\n",
        "plt.show()\n",
        "\n",
        "sorted_intrusion = np.argsort(-class_distribution.values)\n",
        "for i in sorted_intrusion:\n",
        "    print('Number of data points in class', i+1, ':',class_distribution.values[i], '(', np.round((class_distribution.values[i]/data_train.shape[0]*100), 3), '%)')\n"
      ]
    },
    {
      "cell_type": "code",
      "execution_count": null,
      "metadata": {
        "id": "0IiBq8Oldrip"
      },
      "outputs": [],
      "source": [
        "plt.figure(figsize=(20,15))\n",
        "sns.violinplot(x=\"intrusion_type\", y=\"src_bytes\", data=data_train)\n",
        "plt.xticks(rotation=90)"
      ]
    },
    {
      "cell_type": "code",
      "source": [
        "def pairplot(data, label, features=[]):\n",
        "    '''\n",
        "    This function creates pairplot taking 4 features from our dataset as default parameters along with the output variable\n",
        "    '''\n",
        "    sns.pairplot(data, hue=label, height=4, diag_kind='hist', vars=features,\n",
        "            plot_kws={'alpha':0.6, 's':80, 'edgecolor':'k'})"
      ],
      "metadata": {
        "id": "sTu0sWjASSfh"
      },
      "execution_count": null,
      "outputs": []
    },
    {
      "cell_type": "code",
      "source": [
        "data_test = pd.read_csv(\"/content/drive/MyDrive/IntrsiondetectionDataSet/KDDTest+.txt\", names= features , header= None)"
      ],
      "metadata": {
        "id": "N0UmR63h0bJ9"
      },
      "execution_count": null,
      "outputs": []
    },
    {
      "cell_type": "code",
      "source": [
        "data_test.head()"
      ],
      "metadata": {
        "id": "7TIqNAZw8Z81"
      },
      "execution_count": null,
      "outputs": []
    },
    {
      "cell_type": "code",
      "source": [
        "data_test.shape"
      ],
      "metadata": {
        "id": "692nJd1h9MJH"
      },
      "execution_count": null,
      "outputs": []
    },
    {
      "cell_type": "code",
      "source": [
        "print('The no of data points are:',data_test.shape[0])\n",
        "print(' ')\n",
        "print('The no of features are:',data_test.shape[1])\n",
        "print(' ')\n",
        "print('Some of the features are:',features[:10])"
      ],
      "metadata": {
        "id": "qZbbDmBP8b3o"
      },
      "execution_count": null,
      "outputs": []
    },
    {
      "cell_type": "code",
      "source": [
        "output = data_test['intrusion_type'].values\n",
        "labels = set(output)"
      ],
      "metadata": {
        "id": "qvYQFUCVNl-N"
      },
      "execution_count": null,
      "outputs": []
    },
    {
      "cell_type": "code",
      "source": [
        "print('Different types of output labels are : ',labels)\n",
        "print('')\n",
        "print('No of different types of output labels : ',len(labels))"
      ],
      "metadata": {
        "id": "foNK6ZM0Nuap"
      },
      "execution_count": null,
      "outputs": []
    },
    {
      "cell_type": "code",
      "source": [
        "duplicateRows = data_test[data_test.duplicated()]\n"
      ],
      "metadata": {
        "id": "lp0vWNPy808X"
      },
      "execution_count": null,
      "outputs": []
    },
    {
      "cell_type": "code",
      "source": [
        "duplicateRows.head()"
      ],
      "metadata": {
        "id": "BPDk4f8h8-6Z"
      },
      "execution_count": null,
      "outputs": []
    },
    {
      "cell_type": "code",
      "source": [
        "duplicateRows.size"
      ],
      "metadata": {
        "id": "l_aW49GD9TYY"
      },
      "execution_count": null,
      "outputs": []
    },
    {
      "cell_type": "code",
      "source": [
        "data_test.drop_duplicates(subset=features, keep='first', inplace=True)\n",
        "data_test.shape"
      ],
      "metadata": {
        "id": "k5rm-Xm49XsY"
      },
      "execution_count": null,
      "outputs": []
    },
    {
      "cell_type": "code",
      "source": [
        "data_test.to_pickle('data_test.pkl')\n",
        "data_test = pd.read_pickle('data_test.pkl')"
      ],
      "metadata": {
        "id": "5PcFNDVG9iM5"
      },
      "execution_count": null,
      "outputs": []
    },
    {
      "cell_type": "code",
      "source": [
        "from sklearn.model_selection import train_test_split"
      ],
      "metadata": {
        "id": "F83T_7nW9wcX"
      },
      "execution_count": null,
      "outputs": []
    },
    {
      "cell_type": "code",
      "source": [
        "X_train, X_test, Y_train, Y_test = (data_train.drop('intrusion_type', axis=1, ), data_test.drop('intrusion_type', axis =1), data_train['intrusion_type'], data_test['intrusion_type'])"
      ],
      "metadata": {
        "id": "t_u1Intk-AyP"
      },
      "execution_count": null,
      "outputs": []
    },
    {
      "cell_type": "code",
      "source": [
        "print('Train data')\n",
        "print(X_train.shape)\n",
        "print(Y_train.shape)\n",
        "print(' ')\n",
        "print('Test data')\n",
        "print(X_test.shape)\n",
        "print(Y_test.shape)"
      ],
      "metadata": {
        "id": "SgSAnfLKBVKq"
      },
      "execution_count": null,
      "outputs": []
    },
    {
      "cell_type": "code",
      "source": [
        "protocol = list(X_train['protocol_type'].values)\n",
        "protocol = list(set(protocol))\n",
        "print('Protocol types are:', protocol)"
      ],
      "metadata": {
        "id": "XcGSNSwHBbTh"
      },
      "execution_count": null,
      "outputs": []
    },
    {
      "cell_type": "code",
      "source": [
        "from sklearn.feature_extraction.text import CountVectorizer"
      ],
      "metadata": {
        "id": "XDHIQYrECa_Y"
      },
      "execution_count": null,
      "outputs": []
    },
    {
      "cell_type": "code",
      "source": [
        "one_hot = CountVectorizer(vocabulary=protocol, binary=True)\n",
        "train_protocol = one_hot.fit_transform(X_train['protocol_type'].values)\n",
        "test_protocol = one_hot.transform(X_test['protocol_type'].values)"
      ],
      "metadata": {
        "id": "thooNuoECcnG"
      },
      "execution_count": null,
      "outputs": []
    },
    {
      "cell_type": "code",
      "source": [
        "print(train_protocol[1].toarray())\n",
        "train_protocol.shape"
      ],
      "metadata": {
        "id": "TmIk_zEcCo0N"
      },
      "execution_count": null,
      "outputs": []
    },
    {
      "cell_type": "code",
      "source": [
        "service = list(X_train['service'].values)\n",
        "service = list(set(service))\n",
        "print('Service types :\\n', service)"
      ],
      "metadata": {
        "id": "89rT93XJC-yd"
      },
      "execution_count": null,
      "outputs": []
    },
    {
      "cell_type": "code",
      "source": [
        "\n",
        "one_hot = CountVectorizer(vocabulary=service, binary=True)\n",
        "train_service = one_hot.fit_transform(X_train['service'].values)\n",
        "test_service = one_hot.transform(X_test['service'].values)"
      ],
      "metadata": {
        "id": "8wCuvFo4DFom"
      },
      "execution_count": null,
      "outputs": []
    },
    {
      "cell_type": "code",
      "source": [
        "print(train_service[100].toarray())"
      ],
      "metadata": {
        "id": "kdn6IxNfDPqR"
      },
      "execution_count": null,
      "outputs": []
    },
    {
      "cell_type": "code",
      "source": [
        "train_service.shape"
      ],
      "metadata": {
        "id": "ujKylf_oDRux"
      },
      "execution_count": null,
      "outputs": []
    },
    {
      "cell_type": "code",
      "source": [
        "flag = list(X_train['flag'].values)\n",
        "flag = list(set(flag))\n",
        "print('flag types :', flag)"
      ],
      "metadata": {
        "id": "jqlBW5aKDVvp"
      },
      "execution_count": null,
      "outputs": []
    },
    {
      "cell_type": "code",
      "source": [
        "one_hot = CountVectorizer(binary=True)\n",
        "one_hot.fit(X_train['flag'].values)\n",
        "train_flag = one_hot.transform(X_train['flag'].values)\n",
        "test_flag = one_hot.transform(X_test['flag'].values)"
      ],
      "metadata": {
        "id": "Fd3Rs48GDb7Y"
      },
      "execution_count": null,
      "outputs": []
    },
    {
      "cell_type": "code",
      "source": [
        "print(test_flag[3000].toarray())\n",
        "train_flag.shape"
      ],
      "metadata": {
        "id": "OT3UcR3iDh4x"
      },
      "execution_count": null,
      "outputs": []
    },
    {
      "cell_type": "code",
      "source": [
        "X_train.drop(['protocol_type','service','flag'], axis=1, inplace=True)\n",
        "X_test.drop(['protocol_type','service','flag'], axis=1, inplace=True)"
      ],
      "metadata": {
        "id": "juubtazjDkMx"
      },
      "execution_count": null,
      "outputs": []
    },
    {
      "cell_type": "code",
      "source": [
        "def feature_scaling(X_train, X_test, feature_name):\n",
        "    '''\n",
        "    This function performs feature scaling (standardization) on a specific feature.\n",
        "\n",
        "    Parameters:\n",
        "    - X_train: The training dataset that contains the feature you want to scale.\n",
        "    - X_test: The testing dataset that contains the same feature.\n",
        "    - feature_name: The name of the feature you want to scale.\n",
        "\n",
        "    Returns:\n",
        "    - scaled_train_feature: The scaled feature values for the training dataset.\n",
        "    - scaled_test_feature: The scaled feature values for the testing dataset.\n",
        "    '''\n",
        "\n",
        "    # Import the StandardScaler from scikit-learn\n",
        "    from sklearn.preprocessing import StandardScaler\n",
        "\n",
        "    # Create a StandardScaler object\n",
        "    scaler = StandardScaler()\n",
        "\n",
        "    # Fit and transform the scaler on the training data\n",
        "    scaler1 = scaler.fit_transform(X_train[feature_name].values.reshape(-1, 1))\n",
        "\n",
        "    # Use the same scaler to transform the testing data\n",
        "    scaler2 = scaler.transform(X_test[feature_name].values.reshape(-1, 1))\n",
        "\n",
        "    # Return the scaled features for both training and testing datasets\n",
        "    return scaler1, scaler2\n"
      ],
      "metadata": {
        "id": "7BbrAjwGDoCQ"
      },
      "execution_count": null,
      "outputs": []
    },
    {
      "cell_type": "markdown",
      "source": [
        "Duration"
      ],
      "metadata": {
        "id": "QZcKBmcsFEqj"
      }
    },
    {
      "cell_type": "code",
      "source": [
        "duration1, duration2 = feature_scaling(X_train, X_test, 'duration')"
      ],
      "metadata": {
        "id": "Xox7SCIcE11h"
      },
      "execution_count": null,
      "outputs": []
    },
    {
      "cell_type": "code",
      "source": [
        "print(duration1[1])"
      ],
      "metadata": {
        "id": "db0w0bC0E7Sa"
      },
      "execution_count": null,
      "outputs": []
    },
    {
      "cell_type": "markdown",
      "source": [
        "src_bytes"
      ],
      "metadata": {
        "id": "IVZy9SiYFRgG"
      }
    },
    {
      "cell_type": "code",
      "source": [
        "src_bytes1, src_bytes2 = feature_scaling(X_train, X_test, 'src_bytes')"
      ],
      "metadata": {
        "id": "A6XvBoAoFB1Q"
      },
      "execution_count": null,
      "outputs": []
    },
    {
      "cell_type": "code",
      "source": [
        "print(src_bytes1[1])"
      ],
      "metadata": {
        "id": "q-0pZSgLFhJw"
      },
      "execution_count": null,
      "outputs": []
    },
    {
      "cell_type": "code",
      "source": [
        "dst_bytes1, dst_bytes2 = feature_scaling(X_train, X_test, 'dst_bytes')"
      ],
      "metadata": {
        "id": "rIemXViqFqkh"
      },
      "execution_count": null,
      "outputs": []
    },
    {
      "cell_type": "code",
      "source": [
        "print(dst_bytes1[1])"
      ],
      "metadata": {
        "id": "MLGg6zCYr2bZ"
      },
      "execution_count": null,
      "outputs": []
    },
    {
      "cell_type": "code",
      "source": [
        "wrong_fragment1, wrong_fragment2 = feature_scaling(X_train, X_test, 'wrong_fragment')"
      ],
      "metadata": {
        "id": "sgb5vxLBr8x3"
      },
      "execution_count": null,
      "outputs": []
    },
    {
      "cell_type": "code",
      "source": [
        "print(wrong_fragment1[1])"
      ],
      "metadata": {
        "id": "_8y8Kr0SsYBB"
      },
      "execution_count": null,
      "outputs": []
    },
    {
      "cell_type": "code",
      "source": [
        "urgent1, urgent2 = feature_scaling(X_train, X_test, 'urgent')"
      ],
      "metadata": {
        "id": "NKovDI8mtTBD"
      },
      "execution_count": null,
      "outputs": []
    },
    {
      "cell_type": "code",
      "source": [
        "print(urgent1[1])"
      ],
      "metadata": {
        "id": "lPXbCpsKtd8S"
      },
      "execution_count": null,
      "outputs": []
    },
    {
      "cell_type": "code",
      "source": [
        "hot1, hot2 = feature_scaling(X_train, X_test, 'hot')"
      ],
      "metadata": {
        "id": "ap7N0aUFtpMJ"
      },
      "execution_count": null,
      "outputs": []
    },
    {
      "cell_type": "code",
      "source": [
        "print(hot1[1])"
      ],
      "metadata": {
        "id": "wLpGDdbntuGK"
      },
      "execution_count": null,
      "outputs": []
    },
    {
      "cell_type": "code",
      "source": [
        "num_failed_logins1, num_failed_logins2 = feature_scaling(X_train, X_test, 'num_failed_logins')"
      ],
      "metadata": {
        "id": "0iyLiuEntweN"
      },
      "execution_count": null,
      "outputs": []
    },
    {
      "cell_type": "code",
      "source": [
        "print(num_failed_logins1[1])"
      ],
      "metadata": {
        "id": "FYmruAmctzo9"
      },
      "execution_count": null,
      "outputs": []
    },
    {
      "cell_type": "code",
      "source": [
        "num_compromised1, num_compromised2 = feature_scaling(X_train, X_test, 'num_compromised')"
      ],
      "metadata": {
        "id": "K2kW0W45t1zB"
      },
      "execution_count": null,
      "outputs": []
    },
    {
      "cell_type": "code",
      "source": [
        "print(num_compromised1[1])"
      ],
      "metadata": {
        "id": "KFbPwETkt5hF"
      },
      "execution_count": null,
      "outputs": []
    },
    {
      "cell_type": "code",
      "source": [
        "root_shell1, root_shell2 = feature_scaling(X_train, X_test, 'root_shell')"
      ],
      "metadata": {
        "id": "LWLGdI6EuE1-"
      },
      "execution_count": null,
      "outputs": []
    },
    {
      "cell_type": "code",
      "source": [
        "print(root_shell1[1])"
      ],
      "metadata": {
        "id": "x1soIlkKusLD"
      },
      "execution_count": null,
      "outputs": []
    },
    {
      "cell_type": "code",
      "source": [
        "su_attempted1, su_attempted2 = feature_scaling(X_train, X_test, 'su_attempted')"
      ],
      "metadata": {
        "id": "F4YRox1ouzI_"
      },
      "execution_count": null,
      "outputs": []
    },
    {
      "cell_type": "code",
      "source": [
        "print(su_attempted1[1])"
      ],
      "metadata": {
        "id": "CP-vUKPWu2cj"
      },
      "execution_count": null,
      "outputs": []
    },
    {
      "cell_type": "code",
      "source": [
        "num_root1, num_root2 = feature_scaling(X_train, X_test, 'num_root')"
      ],
      "metadata": {
        "id": "qfI7XQlZu62o"
      },
      "execution_count": null,
      "outputs": []
    },
    {
      "cell_type": "code",
      "source": [
        "print(num_root1[1])"
      ],
      "metadata": {
        "id": "kdgAhPCwu-Tx"
      },
      "execution_count": null,
      "outputs": []
    },
    {
      "cell_type": "code",
      "source": [
        "num_file_creations1, num_file_creations2 = feature_scaling(X_train, X_test, 'num_file_creations')"
      ],
      "metadata": {
        "id": "K-bu6VTBvDqz"
      },
      "execution_count": null,
      "outputs": []
    },
    {
      "cell_type": "code",
      "source": [
        "print(num_file_creations1[1])"
      ],
      "metadata": {
        "id": "PII95fqwvGKc"
      },
      "execution_count": null,
      "outputs": []
    },
    {
      "cell_type": "code",
      "source": [
        "\n",
        "num_shells1, num_shells2 = feature_scaling(X_train, X_test, 'num_shells')"
      ],
      "metadata": {
        "id": "9fy94S1vvKhW"
      },
      "execution_count": null,
      "outputs": []
    },
    {
      "cell_type": "code",
      "source": [
        "print(num_shells1[1])"
      ],
      "metadata": {
        "id": "J8iHKwg2vOWk"
      },
      "execution_count": null,
      "outputs": []
    },
    {
      "cell_type": "code",
      "source": [
        "num_access_files1, num_access_files2 = feature_scaling(X_train, X_test, 'num_access_files')"
      ],
      "metadata": {
        "id": "DHOHAMtZvSJ6"
      },
      "execution_count": null,
      "outputs": []
    },
    {
      "cell_type": "code",
      "source": [
        "print(num_access_files1[1])"
      ],
      "metadata": {
        "id": "4lVTrxD1vVi1"
      },
      "execution_count": null,
      "outputs": []
    },
    {
      "cell_type": "code",
      "source": [
        "data_train['num_outbound_cmds'].value_counts()"
      ],
      "metadata": {
        "id": "s85Q_0PDvacW"
      },
      "execution_count": null,
      "outputs": []
    },
    {
      "cell_type": "code",
      "source": [
        "srv_count1, srv_count2 = feature_scaling(X_train, X_test, 'srv_count')"
      ],
      "metadata": {
        "id": "mMkr_8xdvweL"
      },
      "execution_count": null,
      "outputs": []
    },
    {
      "cell_type": "code",
      "source": [
        "print(srv_count1[1])"
      ],
      "metadata": {
        "id": "2Nv4dNocvzS0"
      },
      "execution_count": null,
      "outputs": []
    },
    {
      "cell_type": "code",
      "source": [
        "serror_rate1, serror_rate2 = feature_scaling(X_train, X_test, 'serror_rate')"
      ],
      "metadata": {
        "id": "-FVWCo9xv4d3"
      },
      "execution_count": null,
      "outputs": []
    },
    {
      "cell_type": "code",
      "source": [
        "print(serror_rate1[1])"
      ],
      "metadata": {
        "id": "XU4RwUOWv7NY"
      },
      "execution_count": null,
      "outputs": []
    },
    {
      "cell_type": "code",
      "source": [
        "srv_serror_rate1, srv_serror_rate2 = feature_scaling(X_train, X_test, 'srv_serror_rate')"
      ],
      "metadata": {
        "id": "MeZxxFg0v-rC"
      },
      "execution_count": null,
      "outputs": []
    },
    {
      "cell_type": "code",
      "source": [
        "print(srv_serror_rate1[1])"
      ],
      "metadata": {
        "id": "QI7L2S45wAof"
      },
      "execution_count": null,
      "outputs": []
    },
    {
      "cell_type": "code",
      "source": [
        "rerror_rate1, rerror_rate2 = feature_scaling(X_train, X_test, 'rerror_rate')"
      ],
      "metadata": {
        "id": "z0G6Lae2wFn_"
      },
      "execution_count": null,
      "outputs": []
    },
    {
      "cell_type": "code",
      "source": [
        "print(rerror_rate1[1])"
      ],
      "metadata": {
        "id": "J08FZJMQwI1S"
      },
      "execution_count": null,
      "outputs": []
    },
    {
      "cell_type": "code",
      "source": [
        "srv_rerror_rate1, srv_rerror_rate2 = feature_scaling(X_train, X_test, 'srv_rerror_rate')"
      ],
      "metadata": {
        "id": "Dcj2i_vWwSH5"
      },
      "execution_count": null,
      "outputs": []
    },
    {
      "cell_type": "code",
      "source": [
        "print(srv_rerror_rate1[1])"
      ],
      "metadata": {
        "id": "K9tFbzSEwbMK"
      },
      "execution_count": null,
      "outputs": []
    },
    {
      "cell_type": "code",
      "source": [
        "same_srv_rate1, same_srv_rate2 = feature_scaling(X_train, X_test, 'same_srv_rate')"
      ],
      "metadata": {
        "id": "F-v_1H_UwfQr"
      },
      "execution_count": null,
      "outputs": []
    },
    {
      "cell_type": "code",
      "source": [
        "print(same_srv_rate1[1])"
      ],
      "metadata": {
        "id": "Y7YAsv4EwieW"
      },
      "execution_count": null,
      "outputs": []
    },
    {
      "cell_type": "code",
      "source": [
        "diff_srv_rate1, diff_srv_rate2 = feature_scaling(X_train, X_test, 'diff_srv_rate')"
      ],
      "metadata": {
        "id": "70VfHJFownw6"
      },
      "execution_count": null,
      "outputs": []
    },
    {
      "cell_type": "code",
      "source": [
        "print(diff_srv_rate1[1])"
      ],
      "metadata": {
        "id": "-9tEZht0wsXW"
      },
      "execution_count": null,
      "outputs": []
    },
    {
      "cell_type": "code",
      "source": [
        "srv_diff_host_rate1, srv_diff_host_rate2 = feature_scaling(X_train, X_test, 'srv_diff_host_rate')"
      ],
      "metadata": {
        "id": "_KvMZxTXwxDx"
      },
      "execution_count": null,
      "outputs": []
    },
    {
      "cell_type": "code",
      "source": [
        "print(srv_diff_host_rate1[1])"
      ],
      "metadata": {
        "id": "UR0F5GqSwzlP"
      },
      "execution_count": null,
      "outputs": []
    },
    {
      "cell_type": "code",
      "source": [
        "dst_host_count1, dst_host_count2 = feature_scaling(X_train, X_test, 'dst_host_count')"
      ],
      "metadata": {
        "id": "h6X6ug9zxAFk"
      },
      "execution_count": null,
      "outputs": []
    },
    {
      "cell_type": "code",
      "source": [
        "print(dst_host_count1[1])"
      ],
      "metadata": {
        "id": "8rSbU1pZxBCs"
      },
      "execution_count": null,
      "outputs": []
    },
    {
      "cell_type": "code",
      "source": [
        "dst_host_srv_count1, dst_host_srv_count2 = feature_scaling(X_train, X_test, 'dst_host_srv_count')"
      ],
      "metadata": {
        "id": "nXMwnGToxFAc"
      },
      "execution_count": null,
      "outputs": []
    },
    {
      "cell_type": "code",
      "source": [
        "print(dst_host_srv_count1[1])"
      ],
      "metadata": {
        "id": "0mrvPR-yxGzr"
      },
      "execution_count": null,
      "outputs": []
    },
    {
      "cell_type": "code",
      "source": [
        "dst_host_same_srv_rate1, dst_host_same_srv_rate2= feature_scaling(X_train, X_test, 'dst_host_same_srv_rate')"
      ],
      "metadata": {
        "id": "2bHoHuXDxKjL"
      },
      "execution_count": null,
      "outputs": []
    },
    {
      "cell_type": "code",
      "source": [
        "print(dst_host_same_srv_rate1[1])"
      ],
      "metadata": {
        "id": "9y9IcIKLxM1s"
      },
      "execution_count": null,
      "outputs": []
    },
    {
      "cell_type": "code",
      "source": [
        "dst_host_diff_srv_rate1, dst_host_diff_srv_rate2 = feature_scaling(X_train, X_test, 'dst_host_diff_srv_rate')"
      ],
      "metadata": {
        "id": "FEfeKrYgxRYH"
      },
      "execution_count": null,
      "outputs": []
    },
    {
      "cell_type": "code",
      "source": [
        "print(dst_host_diff_srv_rate1[1])"
      ],
      "metadata": {
        "id": "G5wLs687yCnu"
      },
      "execution_count": null,
      "outputs": []
    },
    {
      "cell_type": "code",
      "source": [
        "dst_host_same_src_port_rate1, dst_host_same_src_port_rate2 = feature_scaling(X_train, X_test, 'dst_host_same_src_port_rate')"
      ],
      "metadata": {
        "id": "30lZ3sa8yekG"
      },
      "execution_count": null,
      "outputs": []
    },
    {
      "cell_type": "code",
      "source": [
        "print(dst_host_same_src_port_rate1[1])"
      ],
      "metadata": {
        "id": "USFFWMqIyhpX"
      },
      "execution_count": null,
      "outputs": []
    },
    {
      "cell_type": "code",
      "source": [
        "dst_host_srv_diff_host_rate1, dst_host_srv_diff_host_rate2 = feature_scaling(X_train, X_test, 'dst_host_srv_diff_host_rate')"
      ],
      "metadata": {
        "id": "RaKK3Q1vytIW"
      },
      "execution_count": null,
      "outputs": []
    },
    {
      "cell_type": "code",
      "source": [
        "print(dst_host_srv_diff_host_rate1[1])"
      ],
      "metadata": {
        "id": "BqneDRmcyvhG"
      },
      "execution_count": null,
      "outputs": []
    },
    {
      "cell_type": "code",
      "source": [
        "dst_host_serror_rate1, dst_host_serror_rate2 = feature_scaling(X_train, X_test, 'dst_host_serror_rate')"
      ],
      "metadata": {
        "id": "eTXQT1h1y4fx"
      },
      "execution_count": null,
      "outputs": []
    },
    {
      "cell_type": "code",
      "source": [
        "print(dst_host_serror_rate1[1])"
      ],
      "metadata": {
        "id": "gcANyGXsy6mJ"
      },
      "execution_count": null,
      "outputs": []
    },
    {
      "cell_type": "code",
      "source": [
        "dst_host_srv_serror_rate1, dst_host_srv_serror_rate2 = feature_scaling(X_train, X_test, 'dst_host_srv_serror_rate')"
      ],
      "metadata": {
        "id": "CqOujZwHzF7Y"
      },
      "execution_count": null,
      "outputs": []
    },
    {
      "cell_type": "code",
      "source": [
        "print(dst_host_srv_serror_rate1[1])"
      ],
      "metadata": {
        "id": "sDSH-ukkzIM8"
      },
      "execution_count": null,
      "outputs": []
    },
    {
      "cell_type": "code",
      "source": [
        "dst_host_rerror_rate1, dst_host_rerror_rate2 = feature_scaling(X_train, X_test, 'dst_host_rerror_rate')"
      ],
      "metadata": {
        "id": "N2PtLQEvzNeg"
      },
      "execution_count": null,
      "outputs": []
    },
    {
      "cell_type": "code",
      "source": [
        "print(dst_host_rerror_rate1[1])"
      ],
      "metadata": {
        "id": "-mJDw203zP2p"
      },
      "execution_count": null,
      "outputs": []
    },
    {
      "cell_type": "code",
      "source": [
        "dst_host_srv_rerror_rate1, dst_host_srv_rerror_rate2 = feature_scaling(X_train, X_test, 'dst_host_srv_rerror_rate')"
      ],
      "metadata": {
        "id": "kMXerDsrzZCf"
      },
      "execution_count": null,
      "outputs": []
    },
    {
      "cell_type": "code",
      "source": [
        "print(dst_host_srv_rerror_rate1[1])"
      ],
      "metadata": {
        "id": "YdRUlpIAzgt2"
      },
      "execution_count": null,
      "outputs": []
    },
    {
      "cell_type": "code",
      "source": [
        "num_failed_logins1, num_failed_logins2 = feature_scaling(X_train, X_test, 'num_failed_logins')"
      ],
      "metadata": {
        "id": "gUIfqx3Kzpt_"
      },
      "execution_count": null,
      "outputs": []
    },
    {
      "cell_type": "code",
      "source": [
        "print(num_failed_logins1[1])"
      ],
      "metadata": {
        "id": "MJeOjwmGzrrH"
      },
      "execution_count": null,
      "outputs": []
    },
    {
      "cell_type": "code",
      "source": [
        "land1, land2 = np.array([X_train['land'].values]), np.array([X_test['land'].values])"
      ],
      "metadata": {
        "id": "BytPoQ2izvmU"
      },
      "execution_count": null,
      "outputs": []
    },
    {
      "cell_type": "code",
      "source": [
        "land1.shape"
      ],
      "metadata": {
        "id": "0kO3YsF1z35f"
      },
      "execution_count": null,
      "outputs": []
    },
    {
      "cell_type": "code",
      "source": [
        "is_host_login1, is_host_login2 = np.array([X_train['is_host_login'].values]), np.array([X_test['is_host_login'].values])"
      ],
      "metadata": {
        "id": "pa8NsAQ9z5MI"
      },
      "execution_count": null,
      "outputs": []
    },
    {
      "cell_type": "code",
      "source": [
        "is_host_login1.shape"
      ],
      "metadata": {
        "id": "2u_Kme1Iz67n"
      },
      "execution_count": null,
      "outputs": []
    },
    {
      "cell_type": "code",
      "source": [
        "is_guest_login1, is_guest_login2 = np.array([X_train['is_guest_login'].values]), np.array([X_test['is_guest_login'].values])"
      ],
      "metadata": {
        "id": "k__5HTb3z8dS"
      },
      "execution_count": null,
      "outputs": []
    },
    {
      "cell_type": "code",
      "source": [
        "is_guest_login1.shape"
      ],
      "metadata": {
        "id": "Ozst2GImz-sd"
      },
      "execution_count": null,
      "outputs": []
    },
    {
      "cell_type": "code",
      "source": [
        "logged_in1, logged_in2 = np.array([X_train['logged_in'].values]), np.array([X_test['logged_in'].values])"
      ],
      "metadata": {
        "id": "kHayWdff0DJJ"
      },
      "execution_count": null,
      "outputs": []
    },
    {
      "cell_type": "code",
      "source": [
        "logged_in1.shape"
      ],
      "metadata": {
        "id": "3pa-p_5Q0Jmp"
      },
      "execution_count": null,
      "outputs": []
    },
    {
      "cell_type": "code",
      "source": [
        "count1, count2 = feature_scaling(X_train, X_test, 'count')"
      ],
      "metadata": {
        "id": "XemGGu0D0U-A"
      },
      "execution_count": null,
      "outputs": []
    },
    {
      "cell_type": "code",
      "source": [
        "print(count1[1])"
      ],
      "metadata": {
        "id": "K_vSMOfN0VzP"
      },
      "execution_count": null,
      "outputs": []
    },
    {
      "cell_type": "code",
      "source": [
        "dst_host_diff_srv_rate1, dst_host_diff_srv_rate2 = feature_scaling(X_train, X_test, 'dst_host_diff_srv_rate')"
      ],
      "metadata": {
        "id": "kRqoBjkf0fy8"
      },
      "execution_count": null,
      "outputs": []
    },
    {
      "cell_type": "code",
      "source": [
        "print(dst_host_diff_srv_rate1[1])"
      ],
      "metadata": {
        "id": "kCDZY-qq0i5X"
      },
      "execution_count": null,
      "outputs": []
    },
    {
      "cell_type": "code",
      "source": [
        "from scipy.sparse import hstack"
      ],
      "metadata": {
        "id": "xuKOwwDE0oi_"
      },
      "execution_count": null,
      "outputs": []
    },
    {
      "cell_type": "code",
      "source": [
        "X_train_1 = hstack((train_protocol, train_service, train_flag, src_bytes1,\n",
        "       dst_bytes1, land1.T, wrong_fragment1, urgent1, hot1,\n",
        "       num_failed_logins1, logged_in1.T, num_compromised1, root_shell1,\n",
        "       su_attempted1, num_root1, num_file_creations1, num_shells1,\n",
        "       num_access_files1, is_host_login1.T,\n",
        "       is_guest_login1.T, count1, srv_count1, serror_rate1,\n",
        "       srv_serror_rate1, rerror_rate1, srv_rerror_rate1, same_srv_rate1,\n",
        "       diff_srv_rate1, srv_diff_host_rate1, dst_host_count1,\n",
        "       dst_host_srv_count1, dst_host_same_srv_rate1,\n",
        "       dst_host_diff_srv_rate1, dst_host_same_src_port_rate1,\n",
        "       dst_host_srv_diff_host_rate1, dst_host_serror_rate1,\n",
        "       dst_host_srv_serror_rate1, dst_host_rerror_rate1,\n",
        "       dst_host_srv_rerror_rate1, duration1))"
      ],
      "metadata": {
        "id": "6LO8xPIY4erG"
      },
      "execution_count": null,
      "outputs": []
    },
    {
      "cell_type": "code",
      "source": [
        "X_train_1.shape"
      ],
      "metadata": {
        "id": "km1mCJ244j99"
      },
      "execution_count": null,
      "outputs": []
    },
    {
      "cell_type": "code",
      "source": [
        "X_test_1 = hstack((train_protocol, train_service, train_flag, src_bytes1,\n",
        "       dst_bytes1, land1.T, wrong_fragment1, urgent1, hot1,\n",
        "       num_failed_logins1, logged_in1.T, num_compromised1, root_shell1,\n",
        "       su_attempted1, num_root1, num_file_creations1, num_shells1,\n",
        "       num_access_files1, is_host_login1.T,\n",
        "       is_guest_login1.T, count1, srv_count1, serror_rate1,\n",
        "       srv_serror_rate1, rerror_rate1, srv_rerror_rate1, same_srv_rate1,\n",
        "       diff_srv_rate1, srv_diff_host_rate1, dst_host_count1,\n",
        "       dst_host_srv_count1, dst_host_same_srv_rate1,\n",
        "       dst_host_diff_srv_rate1, dst_host_same_src_port_rate1,\n",
        "       dst_host_srv_diff_host_rate1, dst_host_serror_rate1,\n",
        "       dst_host_srv_serror_rate1, dst_host_rerror_rate1,\n",
        "       dst_host_srv_rerror_rate1, duration1))"
      ],
      "metadata": {
        "id": "1cmBye6f5LCY"
      },
      "execution_count": null,
      "outputs": []
    },
    {
      "cell_type": "code",
      "source": [
        "X_test_1.shape"
      ],
      "metadata": {
        "id": "Esf4IgYb5Rnv"
      },
      "execution_count": null,
      "outputs": []
    },
    {
      "cell_type": "code",
      "source": [
        "import joblib\n"
      ],
      "metadata": {
        "id": "Sc3USIk15cMk"
      },
      "execution_count": null,
      "outputs": []
    },
    {
      "cell_type": "code",
      "source": [
        "joblib.dump(X_train_1,'X_train_1.pkl')\n",
        "joblib.dump(X_test_1,'X_test_1.pkl')\n",
        "X_train_1 = joblib.load('X_train_1.pkl')\n",
        "X_test_1 = joblib.load('X_test_1.pkl')"
      ],
      "metadata": {
        "id": "SSiFAGWz5dPS"
      },
      "execution_count": null,
      "outputs": []
    },
    {
      "cell_type": "code",
      "source": [
        "joblib.dump(Y_train,'Y_train.pkl')\n",
        "joblib.dump(Y_test,'Y_test.pkl')\n",
        "Y_train = joblib.load('Y_train.pkl')\n",
        "Y_test = joblib.load('Y_test.pkl')"
      ],
      "metadata": {
        "id": "g7pyeWYO5mxz"
      },
      "execution_count": null,
      "outputs": []
    },
    {
      "cell_type": "code",
      "source": [
        "import datetime as dt\n",
        "from sklearn.metrics import accuracy_score, confusion_matrix, roc_auc_score, precision_score, recall_score, f1_score\n",
        "from sklearn.model_selection import GridSearchCV, RandomizedSearchCV\n"
      ],
      "metadata": {
        "id": "uQ93jhly7e_X"
      },
      "execution_count": null,
      "outputs": []
    },
    {
      "cell_type": "code",
      "source": [
        "def confusion_matrix_func(Y_test, y_test_pred):\n",
        "    '''\n",
        "    This function plots the confusion matrix heatmap using the actual and predicted values.\n",
        "    '''\n",
        "    C = confusion_matrix(Y_test, y_test_pred)\n",
        "    cm_df = pd.DataFrame(C)\n",
        "    labels = ['back', 'butter_overflow', 'loadmodule', 'guess_passwd', 'imap', 'ipsweep', 'warezmaster', 'rootkit',\n",
        "              'multihop', 'neptune', 'nmap', 'normal', 'phf', 'perl', 'pod', 'portsweep', 'ftp_write', 'satan', 'smurf',\n",
        "              'teardrop', 'warezclient', 'land']\n",
        "    plt.figure(figsize=(20,15))\n",
        "    sns.set(font_scale=1.4)\n",
        "    sns.heatmap(cm_df, annot=True, annot_kws={\"size\":12}, fmt='g', xticklabels=labels, yticklabels=labels)\n",
        "    plt.ylabel('Actual Class')\n",
        "    plt.xlabel('Predicted Class')\n",
        "\n",
        "    plt.show()"
      ],
      "metadata": {
        "id": "EAEfuky27iH3"
      },
      "execution_count": null,
      "outputs": []
    },
    {
      "cell_type": "code",
      "source": [
        "def model(model_name, X_train, Y_train, X_test, Y_test):\n",
        "\n",
        "    '''\n",
        "    This function computes the performance scores on the train and test data.\n",
        "    '''\n",
        "\n",
        "    print('Fitting the model and prediction on train data:')\n",
        "    start = dt.datetime.now()\n",
        "    model_name.fit(X_train, Y_train)\n",
        "    y_tr_pred = model_name.predict(X_train)\n",
        "    print('Completed')\n",
        "    print('Time taken:',dt.datetime.now()-start)\n",
        "    print('='*50)\n",
        "\n",
        "    results_tr = dict()\n",
        "    y_tr_pred = model_name.predict(X_train)\n",
        "    results_tr['precision'] = precision_score(Y_train, y_tr_pred, average='weighted')\n",
        "    results_tr['recall'] = recall_score(Y_train, y_tr_pred, average='weighted')\n",
        "    results_tr['f1_score'] = f1_score(Y_train, y_tr_pred, average='weighted')\n",
        "\n",
        "    results_test = dict()\n",
        "    print('Prediction on test data:')\n",
        "    start = dt.datetime.now()\n",
        "    y_test_pred = model_name.predict(X_test)\n",
        "    print('Completed')\n",
        "    print('Time taken:',dt.datetime.now()-start)\n",
        "    print('='*50)\n",
        "\n",
        "    print('Performance metrics:')\n",
        "    print('='*50)\n",
        "    print('Confusion Matrix is:')\n",
        "    confusion_matrix_func(Y_test, y_test_pred)\n",
        "    print('='*50)\n",
        "    results_test['precision'] = precision_score(Y_test, y_test_pred, average='weighted')\n",
        "    print('Precision score is:')\n",
        "    print(precision_score(Y_test, y_test_pred, average='weighted'))\n",
        "    print('='*50)\n",
        "    results_test['recall'] = recall_score(Y_test, y_test_pred, average='weighted')\n",
        "    print('Recall score is:')\n",
        "    print(recall_score(Y_test, y_test_pred, average='weighted'))\n",
        "    print('='*50)\n",
        "    results_test['f1_score'] = f1_score(Y_test, y_test_pred, average='weighted')\n",
        "    print('F1-score is:')\n",
        "    print(f1_score(Y_test, y_test_pred, average='weighted'))\n",
        "    # add the trained  model to the results\n",
        "    results_test['model'] = model\n",
        "\n",
        "    return results_tr, results_test"
      ],
      "metadata": {
        "id": "NfTz8Xam-X0t"
      },
      "execution_count": null,
      "outputs": []
    },
    {
      "cell_type": "code",
      "source": [
        "def print_grid_search_attributes(model):\n",
        "\n",
        "    '''\n",
        "    This function prints all the grid search attributes\n",
        "    '''\n",
        "\n",
        "    print('---------------------------')\n",
        "    print('|      Best Estimator     |')\n",
        "    print('---------------------------')\n",
        "    print('\\n\\t{}\\n'.format(model.best_estimator_))\n",
        "\n",
        "\n",
        "    # parameters that gave best results while performing grid search\n",
        "    print('---------------------------')\n",
        "    print('|     Best parameters     |')\n",
        "    print('---------------------------')\n",
        "    print('\\tParameters of best estimator : \\n\\n\\t{}\\n'.format(model.best_params_))\n",
        "\n",
        "\n",
        "    #  number of cross validation splits\n",
        "    print('----------------------------------')\n",
        "    print('|   No of CrossValidation sets   |')\n",
        "    print('----------------------------------')\n",
        "    print('\\n\\tTotal numbre of cross validation sets: {}\\n'.format(model.n_splits_))\n",
        "\n",
        "\n",
        "    # Average cross validated score of the best estimator, from the Grid Search\n",
        "    print('---------------------------')\n",
        "    print('|        Best Score       |')\n",
        "    print('---------------------------')\n",
        "    print('\\n\\tAverage Cross Validate scores of best estimator : \\n\\n\\t{}\\n'.format(model.best_score_))"
      ],
      "metadata": {
        "id": "qrMvzck7-bjb"
      },
      "execution_count": null,
      "outputs": []
    },
    {
      "cell_type": "code",
      "source": [
        "def tpr_fpr_func(Y_tr, Y_pred):\n",
        "    '''\n",
        "    This function computes the TPR and FPR scores using the actual and predicetd values\n",
        "    '''\n",
        "    results = dict()\n",
        "    Y_tr = Y_tr.to_list()\n",
        "    tp = 0; fp = 0; positives = 0; negatives = 0; length = len(Y_tr)\n",
        "    for i in range(len(Y_tr)):\n",
        "        if Y_tr[i]=='normal.':\n",
        "            positives += 1\n",
        "        else:\n",
        "            negatives += 1\n",
        "\n",
        "    for i in range(len(Y_pred)):\n",
        "        if Y_tr[i]=='normal.' and Y_pred[i]=='normal.':\n",
        "            tp += 1\n",
        "        elif Y_tr[i]!='normal.' and Y_pred[i]=='normal.':\n",
        "            fp += 1\n",
        "\n",
        "    tpr = tp/positives\n",
        "    fpr = fp/negatives\n",
        "\n",
        "    results['tp'] = tp; results['tpr'] = tpr; results['fp'] = fp; results['fpr'] = fpr\n",
        "\n",
        "    return results\n"
      ],
      "metadata": {
        "id": "2r6LtiHy-piq"
      },
      "execution_count": null,
      "outputs": []
    },
    {
      "cell_type": "markdown",
      "source": [
        "Gaussian Naive Bayes"
      ],
      "metadata": {
        "id": "xsZmo5x4G3xH"
      }
    },
    {
      "cell_type": "code",
      "source": [
        "hyperparameter = {'var_smoothing':[10**x for x in range(-9,3)]}\n",
        "\n",
        "from sklearn.naive_bayes import GaussianNB\n",
        "nb = GaussianNB()\n",
        "nb_grid = GridSearchCV(nb, param_grid=hyperparameter, cv=5, verbose=1, n_jobs=-1)"
      ],
      "metadata": {
        "id": "6f9b7AZDPfGb"
      },
      "execution_count": null,
      "outputs": []
    },
    {
      "cell_type": "code",
      "source": [
        "nb_grid_results_tr, nb_grid_results_test = model(nb_grid, X_train_1.toarray(), Y_train, X_test_1.toarray(), Y_test)"
      ],
      "metadata": {
        "id": "T9b7F579Pt-f"
      },
      "execution_count": null,
      "outputs": []
    }
  ],
  "metadata": {
    "colab": {
      "provenance": []
    },
    "kernelspec": {
      "display_name": "Python 3",
      "name": "python3"
    },
    "language_info": {
      "name": "python"
    }
  },
  "nbformat": 4,
  "nbformat_minor": 0
}